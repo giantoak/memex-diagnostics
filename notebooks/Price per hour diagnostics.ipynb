{
 "metadata": {
  "name": ""
 },
 "nbformat": 3,
 "nbformat_minor": 0,
 "worksheets": [
  {
   "cells": [
    {
     "cell_type": "code",
     "collapsed": false,
     "input": [
      "import pandas as pd\n",
      "import numpy as np\n",
      "import matplotlib\n",
      "from matplotlib import pylab\n",
      "import seaborn\n",
      "import os\n",
      "from scipy.stats import ks_2samp\n",
      "\n",
      "root_dir = '/mnt/memex-diagnostics'\n",
      "data_dir = os.path.join(root_dir, 'data/dump4')\n",
      "plot_dir = os.path.join(root_dir, 'plots/multiple-rates')"
     ],
     "language": "python",
     "metadata": {},
     "outputs": [],
     "prompt_number": 92
    },
    {
     "cell_type": "code",
     "collapsed": false,
     "input": [
      "rates_df = pd.read_csv(os.path.join(data_dir, 'rates.tsv'), sep='\\t', header=None, names=['ad', 'rate'])\n",
      "rates_df.head()"
     ],
     "language": "python",
     "metadata": {},
     "outputs": [
      {
       "html": [
        "<div style=\"max-height:1000px;max-width:1500px;overflow:auto;\">\n",
        "<table border=\"1\" class=\"dataframe\">\n",
        "  <thead>\n",
        "    <tr style=\"text-align: right;\">\n",
        "      <th></th>\n",
        "      <th>ad</th>\n",
        "      <th>rate</th>\n",
        "    </tr>\n",
        "  </thead>\n",
        "  <tbody>\n",
        "    <tr>\n",
        "      <th>0</th>\n",
        "      <td>adultsearch:10054</td>\n",
        "      <td>$200,1 HOUR</td>\n",
        "    </tr>\n",
        "    <tr>\n",
        "      <th>1</th>\n",
        "      <td>adultsearch:10063</td>\n",
        "      <td>$200,1 HOUR</td>\n",
        "    </tr>\n",
        "    <tr>\n",
        "      <th>2</th>\n",
        "      <td>adultsearch:10080</td>\n",
        "      <td>$150,30 MINS</td>\n",
        "    </tr>\n",
        "    <tr>\n",
        "      <th>3</th>\n",
        "      <td>adultsearch:10080</td>\n",
        "      <td>200,NO DURATION</td>\n",
        "    </tr>\n",
        "    <tr>\n",
        "      <th>4</th>\n",
        "      <td>adultsearch:101</td>\n",
        "      <td>500,2 HOURS</td>\n",
        "    </tr>\n",
        "  </tbody>\n",
        "</table>\n",
        "</div>"
       ],
       "metadata": {},
       "output_type": "pyout",
       "prompt_number": 7,
       "text": [
        "                  ad             rate\n",
        "0  adultsearch:10054      $200,1 HOUR\n",
        "1  adultsearch:10063      $200,1 HOUR\n",
        "2  adultsearch:10080     $150,30 MINS\n",
        "3  adultsearch:10080  200,NO DURATION\n",
        "4    adultsearch:101      500,2 HOURS"
       ]
      }
     ],
     "prompt_number": 7
    },
    {
     "cell_type": "markdown",
     "metadata": {},
     "source": [
      "##Cleaning up rates file\n",
      "\n",
      "First, we need to separate the pricing from the units of time, and standardize their appearances."
     ]
    },
    {
     "cell_type": "code",
     "collapsed": false,
     "input": [
      "len(rates_df.rate.unique()), rates_df.shape[0]\n",
      "\n",
      "# The number of total types of rates in this file, and the number of rows:"
     ],
     "language": "python",
     "metadata": {},
     "outputs": [
      {
       "metadata": {},
       "output_type": "pyout",
       "prompt_number": 10,
       "text": [
        "(1818, 1751437)"
       ]
      }
     ],
     "prompt_number": 10
    },
    {
     "cell_type": "code",
     "collapsed": false,
     "input": [
      "rates_df['price'] = rates_df.rate.str.split(',').str.get(0).str.strip('$')\n",
      "rates_df['time_unit'] = rates_df.rate.str.split(',').str.get(1)"
     ],
     "language": "python",
     "metadata": {},
     "outputs": [],
     "prompt_number": 11
    },
    {
     "cell_type": "markdown",
     "metadata": {},
     "source": [
      "Second, we remove prices that do not have any units of time."
     ]
    },
    {
     "cell_type": "code",
     "collapsed": false,
     "input": [
      "print rates_df.shape\n",
      "rates_df = rates_df[rates_df['time_unit'] != 'NO DURATION']\n",
      "print rates_df.shape"
     ],
     "language": "python",
     "metadata": {},
     "outputs": [
      {
       "output_type": "stream",
       "stream": "stdout",
       "text": [
        "(1751437, 4)\n",
        "(1396454, 4)"
       ]
      },
      {
       "output_type": "stream",
       "stream": "stdout",
       "text": [
        "\n"
       ]
      }
     ],
     "prompt_number": 13
    },
    {
     "cell_type": "markdown",
     "metadata": {},
     "source": [
      "## Loading clusters\n",
      "\n",
      "We merge cluster information into the rates, to get provider-level pricing."
     ]
    },
    {
     "cell_type": "code",
     "collapsed": false,
     "input": [
      "clusters_df = pd.read_csv(os.path.join(data_dir, 'made/doc-provider-sorted.tsv'), header=None, names=['cluster', 'date', 'ad'])\n",
      "clusters_df.head()"
     ],
     "language": "python",
     "metadata": {},
     "outputs": [
      {
       "html": [
        "<div style=\"max-height:1000px;max-width:1500px;overflow:auto;\">\n",
        "<table border=\"1\" class=\"dataframe\">\n",
        "  <thead>\n",
        "    <tr style=\"text-align: right;\">\n",
        "      <th></th>\n",
        "      <th>cluster</th>\n",
        "      <th>date</th>\n",
        "      <th>ad</th>\n",
        "    </tr>\n",
        "  </thead>\n",
        "  <tbody>\n",
        "    <tr>\n",
        "      <th>0</th>\n",
        "      <td>cluster:10000000</td>\n",
        "      <td>2013-11-19 07:31:00</td>\n",
        "      <td>backpage:1281345</td>\n",
        "    </tr>\n",
        "    <tr>\n",
        "      <th>1</th>\n",
        "      <td>cluster:10000001</td>\n",
        "      <td>2014-10-30 11:35:00</td>\n",
        "      <td>backpage:9485641</td>\n",
        "    </tr>\n",
        "    <tr>\n",
        "      <th>2</th>\n",
        "      <td>cluster:10000002</td>\n",
        "      <td>2014-08-14 12:24:00</td>\n",
        "      <td>backpage:7759152</td>\n",
        "    </tr>\n",
        "    <tr>\n",
        "      <th>3</th>\n",
        "      <td>cluster:10000002</td>\n",
        "      <td>2014-11-12 18:27:00</td>\n",
        "      <td>backpage:10098442</td>\n",
        "    </tr>\n",
        "    <tr>\n",
        "      <th>4</th>\n",
        "      <td>cluster:10000003</td>\n",
        "      <td>2014-01-16 11:34:00</td>\n",
        "      <td>backpage:1967893</td>\n",
        "    </tr>\n",
        "  </tbody>\n",
        "</table>\n",
        "</div>"
       ],
       "metadata": {},
       "output_type": "pyout",
       "prompt_number": 14,
       "text": [
        "            cluster                 date                 ad\n",
        "0  cluster:10000000  2013-11-19 07:31:00   backpage:1281345\n",
        "1  cluster:10000001  2014-10-30 11:35:00   backpage:9485641\n",
        "2  cluster:10000002  2014-08-14 12:24:00   backpage:7759152\n",
        "3  cluster:10000002  2014-11-12 18:27:00  backpage:10098442\n",
        "4  cluster:10000003  2014-01-16 11:34:00   backpage:1967893"
       ]
      }
     ],
     "prompt_number": 14
    },
    {
     "cell_type": "code",
     "collapsed": false,
     "input": [
      "cluster_rates = pd.merge(clusters_df, rates_df, on='ad')"
     ],
     "language": "python",
     "metadata": {},
     "outputs": [],
     "prompt_number": 72
    },
    {
     "cell_type": "code",
     "collapsed": false,
     "input": [
      "def get_price_by_unit(df, unit):\n",
      "    df[unit] = df.time_unit == unit\n",
      "    all_one_unit = df.groupby('cluster')[unit].all()\n",
      "    \n",
      "    df['price'] = df['price'].convert_objects(convert_numeric=True)\n",
      "    all_unit_prices = df[df[unit]]\n",
      "    mean_unit_price = all_unit_prices.groupby('cluster').price.mean()\n",
      "    \n",
      "    price_per_unit = pd.merge(mean_unit_price.reset_index(), all_one_unit.reset_index(), on='cluster')\n",
      "    \n",
      "    return price_per_unit"
     ],
     "language": "python",
     "metadata": {},
     "outputs": [],
     "prompt_number": 85
    },
    {
     "cell_type": "code",
     "collapsed": false,
     "input": [
      "cluster_rates['one_hour'] = cluster_rates['time_unit'] == '1 HOUR'"
     ],
     "language": "python",
     "metadata": {},
     "outputs": [],
     "prompt_number": 22
    },
    {
     "cell_type": "code",
     "collapsed": false,
     "input": [
      "all_one_hour = cluster_rates.groupby('cluster').one_hour.all()"
     ],
     "language": "python",
     "metadata": {},
     "outputs": [],
     "prompt_number": 29
    },
    {
     "cell_type": "code",
     "collapsed": false,
     "input": [
      "cluster_rates['price'] = cluster_rates['price'].convert_objects(convert_numeric=True)\n",
      "cluster_rates['price'].dropna(inplace=True)\n",
      "one_hour_prices = cluster_rates[cluster_rates['one_hour']]"
     ],
     "language": "python",
     "metadata": {},
     "outputs": [],
     "prompt_number": 38
    },
    {
     "cell_type": "code",
     "collapsed": false,
     "input": [
      "mean_one_hour_price = one_hour_prices.groupby('cluster').price.mean()"
     ],
     "language": "python",
     "metadata": {},
     "outputs": [],
     "prompt_number": 40
    },
    {
     "cell_type": "code",
     "collapsed": false,
     "input": [
      "price_has_hour = pd.merge(mean_one_hour_price.reset_index(), all_one_hour.reset_index(), on='cluster')\n",
      "price_has_hour.head()"
     ],
     "language": "python",
     "metadata": {},
     "outputs": [
      {
       "html": [
        "<div style=\"max-height:1000px;max-width:1500px;overflow:auto;\">\n",
        "<table border=\"1\" class=\"dataframe\">\n",
        "  <thead>\n",
        "    <tr style=\"text-align: right;\">\n",
        "      <th></th>\n",
        "      <th>cluster</th>\n",
        "      <th>price</th>\n",
        "      <th>one_hour</th>\n",
        "    </tr>\n",
        "  </thead>\n",
        "  <tbody>\n",
        "    <tr>\n",
        "      <th>0</th>\n",
        "      <td>cluster:10000025</td>\n",
        "      <td>300</td>\n",
        "      <td>True</td>\n",
        "    </tr>\n",
        "    <tr>\n",
        "      <th>1</th>\n",
        "      <td>cluster:10000102</td>\n",
        "      <td>175</td>\n",
        "      <td>True</td>\n",
        "    </tr>\n",
        "    <tr>\n",
        "      <th>2</th>\n",
        "      <td>cluster:10000188</td>\n",
        "      <td>160</td>\n",
        "      <td>True</td>\n",
        "    </tr>\n",
        "    <tr>\n",
        "      <th>3</th>\n",
        "      <td>cluster:10000190</td>\n",
        "      <td>120</td>\n",
        "      <td>True</td>\n",
        "    </tr>\n",
        "    <tr>\n",
        "      <th>4</th>\n",
        "      <td>cluster:10000191</td>\n",
        "      <td>40</td>\n",
        "      <td>True</td>\n",
        "    </tr>\n",
        "  </tbody>\n",
        "</table>\n",
        "</div>"
       ],
       "metadata": {},
       "output_type": "pyout",
       "prompt_number": 47,
       "text": [
        "            cluster  price one_hour\n",
        "0  cluster:10000025    300     True\n",
        "1  cluster:10000102    175     True\n",
        "2  cluster:10000188    160     True\n",
        "3  cluster:10000190    120     True\n",
        "4  cluster:10000191     40     True"
       ]
      }
     ],
     "prompt_number": 47
    },
    {
     "cell_type": "markdown",
     "metadata": {},
     "source": [
      "## Exploration\n",
      "What is the breakdown of prices for clusters with only one hour prices vs those with multiple?"
     ]
    },
    {
     "cell_type": "code",
     "collapsed": false,
     "input": [
      "price_has_hour.shape, (~price_has_hour.one_hour).sum()"
     ],
     "language": "python",
     "metadata": {},
     "outputs": [
      {
       "metadata": {},
       "output_type": "pyout",
       "prompt_number": 62,
       "text": [
        "((223356, 3), 112535)"
       ]
      }
     ],
     "prompt_number": 62
    },
    {
     "cell_type": "code",
     "collapsed": false,
     "input": [
      "# Cut off outliers\n",
      "price_has_hour.dropna(axis=0, subset=['price'], inplace=True)"
     ],
     "language": "python",
     "metadata": {},
     "outputs": [],
     "prompt_number": 105
    },
    {
     "cell_type": "code",
     "collapsed": false,
     "input": [
      "def reject_outliers(data, m=2):\n",
      "    return data[abs(data - np.mean(data)) < m * np.std(data)]"
     ],
     "language": "python",
     "metadata": {},
     "outputs": [],
     "prompt_number": 107
    },
    {
     "cell_type": "code",
     "collapsed": false,
     "input": [
      "g = seaborn.boxplot([reject_outliers(price_has_hour[price_has_hour.one_hour].price),\n",
      "                   reject_outliers(price_has_hour[~price_has_hour.one_hour].price)],\n",
      "                       names=['Only one hour rates (n=110,821)', 'Multiple rates (n=112,535)']\n",
      "                   )\n",
      "seaborn.axlabel('Type of provider', 'Average listed one hour price (dollars)')\n",
      "plt.title('Mean one-hour rate for single vs. multiple rate providers (n=223,356)')\n",
      "plt.savefig(os.path.join(plot_dir, 'one_hour_single_vs_multiple.png'))"
     ],
     "language": "python",
     "metadata": {},
     "outputs": [
      {
       "metadata": {},
       "output_type": "display_data",
       "png": "[encoded data removed]",
       "text": [
        "<matplotlib.figure.Figure at 0x7fda36a8d610>"
       ]
      }
     ],
     "prompt_number": 109
    },
    {
     "cell_type": "code",
     "collapsed": false,
     "input": [
      "ks_2samp(reject_outliers(price_has_hour[price_has_hour.one_hour].price),\n",
      "                   reject_outliers(price_has_hour[~price_has_hour.one_hour].price.dropna()))"
     ],
     "language": "python",
     "metadata": {},
     "outputs": [
      {
       "metadata": {},
       "output_type": "pyout",
       "prompt_number": 111,
       "text": [
        "(0.12899833294464458, 0.0)"
       ]
      }
     ],
     "prompt_number": 111
    },
    {
     "cell_type": "code",
     "collapsed": false,
     "input": [
      "ks_2samp(price_has_hour[price_has_hour.one_hour].price.dropna(),\n",
      "                   price_has_hour[~price_has_hour.one_hour].price.dropna())"
     ],
     "language": "python",
     "metadata": {},
     "outputs": [
      {
       "metadata": {},
       "output_type": "pyout",
       "prompt_number": 94,
       "text": [
        "(0.12124750178022733, 0.0)"
       ]
      }
     ],
     "prompt_number": 94
    },
    {
     "cell_type": "markdown",
     "metadata": {},
     "source": [
      "## Half-hour"
     ]
    },
    {
     "cell_type": "code",
     "collapsed": false,
     "input": [
      "price_has_half_hour = get_price_by_unit(cluster_rates, '30 MINS')"
     ],
     "language": "python",
     "metadata": {},
     "outputs": [],
     "prompt_number": 87
    },
    {
     "cell_type": "code",
     "collapsed": false,
     "input": [
      "price_has_half_hour.shape, (~price_has_half_hour['30 MINS']).sum(), (price_has_half_hour['30 MINS']).sum()"
     ],
     "language": "python",
     "metadata": {},
     "outputs": [
      {
       "metadata": {},
       "output_type": "pyout",
       "prompt_number": 89,
       "text": [
        "((198711, 3), 118867, 79844)"
       ]
      }
     ],
     "prompt_number": 89
    },
    {
     "cell_type": "code",
     "collapsed": false,
     "input": [
      "price_has_half_hour.dropna(subset=['30 MINS'], inplace=True)"
     ],
     "language": "python",
     "metadata": {},
     "outputs": [],
     "prompt_number": 112
    },
    {
     "cell_type": "code",
     "collapsed": false,
     "input": [
      "g = seaborn.boxplot([reject_outliers(price_has_half_hour[price_has_half_hour['30 MINS']].price),\n",
      "                   reject_outliers(price_has_half_hour[~price_has_half_hour['30 MINS']].price)],\n",
      "                       names=['Only half hour rates (n=79,844)', 'Multiple rates (n=118,867)']\n",
      "                   )\n",
      "seaborn.axlabel('Type of provider', 'Average listed half-hour price (dollars)')\n",
      "plt.title('Mean half-hour rate for single vs. multiple rate providers (n=198,711)')\n",
      "plt.savefig(os.path.join(plot_dir, 'half_hour_single_vs_multiple.png'))"
     ],
     "language": "python",
     "metadata": {},
     "outputs": [
      {
       "metadata": {},
       "output_type": "display_data",
       "png": "[encoded data removed]",
       "text": [
        "<matplotlib.figure.Figure at 0x7fda369e8a50>"
       ]
      }
     ],
     "prompt_number": 116
    },
    {
     "cell_type": "code",
     "collapsed": false,
     "input": [
      "ks_2samp(reject_outliers(price_has_half_hour[price_has_half_hour['30 MINS']].price),\n",
      "                   reject_outliers(price_has_half_hour[~price_has_half_hour['30 MINS']].price))"
     ],
     "language": "python",
     "metadata": {},
     "outputs": [
      {
       "metadata": {},
       "output_type": "pyout",
       "prompt_number": 117,
       "text": [
        "(0.053549806642299191, 4.0027538339449981e-116)"
       ]
      }
     ],
     "prompt_number": 117
    },
    {
     "cell_type": "code",
     "collapsed": false,
     "input": [
      "ks_2samp(price_has_half_hour[price_has_half_hour['30 MINS']].price,\n",
      "         price_has_half_hour[~price_has_half_hour['30 MINS']].price)"
     ],
     "language": "python",
     "metadata": {},
     "outputs": [
      {
       "metadata": {},
       "output_type": "pyout",
       "prompt_number": 118,
       "text": [
        "(0.047132114851365592, 1.1016713368276785e-92)"
       ]
      }
     ],
     "prompt_number": 118
    }
   ],
   "metadata": {}
  }
 ]
}