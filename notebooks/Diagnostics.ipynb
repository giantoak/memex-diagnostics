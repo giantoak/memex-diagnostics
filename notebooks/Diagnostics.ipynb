{
 "metadata": {
  "name": ""
 },
 "nbformat": 3,
 "nbformat_minor": 0,
 "worksheets": [
  {
   "cells": [
    {
     "cell_type": "code",
     "collapsed": false,
     "input": [
      "import pandas as pd\n",
      "import numpy as np\n",
      "import matplotlib\n",
      "from matplotlib import pylab\n",
      "import seaborn\n",
      "import os\n",
      "from scipy.stats import ks_2samp\n",
      "\n",
      "root_dir = '/mnt/memex-diagnostics'\n",
      "data_dir = os.path.join(root_dir, 'data/dump4')\n",
      "plot_dir = os.path.join(root_dir, 'plots/multiple-rates')"
     ],
     "language": "python",
     "metadata": {},
     "outputs": [],
     "prompt_number": 92
    },
    {
     "cell_type": "code",
     "collapsed": false,
     "input": [
      "from matplotlib import font_manager as fm\n",
      "fm.get_fontconfig_fonts()"
     ],
     "language": "python",
     "metadata": {},
     "outputs": [
      {
       "metadata": {},
       "output_type": "pyout",
       "prompt_number": 375,
       "text": [
        "{'/usr/share/fonts/opentype/font-awesome/FontAwesome.otf': 1,\n",
        " '/usr/share/fonts/opentype/mathjax/MathJax_AMS-Regular.otf': 1,\n",
        " '/usr/share/fonts/opentype/mathjax/MathJax_Caligraphic-Bold.otf': 1,\n",
        " '/usr/share/fonts/opentype/mathjax/MathJax_Caligraphic-Regular.otf': 1,\n",
        " '/usr/share/fonts/opentype/mathjax/MathJax_Fraktur-Bold.otf': 1,\n",
        " '/usr/share/fonts/opentype/mathjax/MathJax_Fraktur-Regular.otf': 1,\n",
        " '/usr/share/fonts/opentype/mathjax/MathJax_Main-Bold.otf': 1,\n",
        " '/usr/share/fonts/opentype/mathjax/MathJax_Main-Italic.otf': 1,\n",
        " '/usr/share/fonts/opentype/mathjax/MathJax_Main-Regular.otf': 1,\n",
        " '/usr/share/fonts/opentype/mathjax/MathJax_Math-BoldItalic.otf': 1,\n",
        " '/usr/share/fonts/opentype/mathjax/MathJax_Math-Italic.otf': 1,\n",
        " '/usr/share/fonts/opentype/mathjax/MathJax_Math-Regular.otf': 1,\n",
        " '/usr/share/fonts/opentype/mathjax/MathJax_SansSerif-Bold.otf': 1,\n",
        " '/usr/share/fonts/opentype/mathjax/MathJax_SansSerif-Italic.otf': 1,\n",
        " '/usr/share/fonts/opentype/mathjax/MathJax_SansSerif-Regular.otf': 1,\n",
        " '/usr/share/fonts/opentype/mathjax/MathJax_Script-Regular.otf': 1,\n",
        " '/usr/share/fonts/opentype/mathjax/MathJax_Size1-Regular.otf': 1,\n",
        " '/usr/share/fonts/opentype/mathjax/MathJax_Size2-Regular.otf': 1,\n",
        " '/usr/share/fonts/opentype/mathjax/MathJax_Size3-Regular.otf': 1,\n",
        " '/usr/share/fonts/opentype/mathjax/MathJax_Size4-Regular.otf': 1,\n",
        " '/usr/share/fonts/opentype/mathjax/MathJax_Typewriter-Regular.otf': 1,\n",
        " '/usr/share/fonts/opentype/mathjax/MathJax_WinChrome-Regular.otf': 1,\n",
        " '/usr/share/fonts/opentype/mathjax/MathJax_WinIE6-Regular.otf': 1,\n",
        " '/usr/share/fonts/truetype/dejavu/DejaVuSans-Bold.ttf': 1,\n",
        " '/usr/share/fonts/truetype/dejavu/DejaVuSans.ttf': 1,\n",
        " '/usr/share/fonts/truetype/dejavu/DejaVuSansMono-Bold.ttf': 1,\n",
        " '/usr/share/fonts/truetype/dejavu/DejaVuSansMono.ttf': 1,\n",
        " '/usr/share/fonts/truetype/dejavu/DejaVuSerif-Bold.ttf': 1,\n",
        " '/usr/share/fonts/truetype/dejavu/DejaVuSerif.ttf': 1,\n",
        " '/usr/share/fonts/truetype/droid/DroidNaskh-Bold.ttf': 1,\n",
        " '/usr/share/fonts/truetype/droid/DroidNaskh-Regular.ttf': 1,\n",
        " '/usr/share/fonts/truetype/droid/DroidSans-Bold.ttf': 1,\n",
        " '/usr/share/fonts/truetype/droid/DroidSans.ttf': 1,\n",
        " '/usr/share/fonts/truetype/droid/DroidSansArmenian.ttf': 1,\n",
        " '/usr/share/fonts/truetype/droid/DroidSansEthiopic-Bold.ttf': 1,\n",
        " '/usr/share/fonts/truetype/droid/DroidSansEthiopic-Regular.ttf': 1,\n",
        " '/usr/share/fonts/truetype/droid/DroidSansFallbackFull.ttf': 1,\n",
        " '/usr/share/fonts/truetype/droid/DroidSansGeorgian.ttf': 1,\n",
        " '/usr/share/fonts/truetype/droid/DroidSansHebrew-Bold.ttf': 1,\n",
        " '/usr/share/fonts/truetype/droid/DroidSansHebrew-Regular.ttf': 1,\n",
        " '/usr/share/fonts/truetype/droid/DroidSansJapanese.ttf': 1,\n",
        " '/usr/share/fonts/truetype/droid/DroidSansMono.ttf': 1,\n",
        " '/usr/share/fonts/truetype/droid/DroidSansThai.ttf': 1,\n",
        " '/usr/share/fonts/truetype/droid/DroidSerif-Bold.ttf': 1,\n",
        " '/usr/share/fonts/truetype/droid/DroidSerif-BoldItalic.ttf': 1,\n",
        " '/usr/share/fonts/truetype/droid/DroidSerif-Italic.ttf': 1,\n",
        " '/usr/share/fonts/truetype/droid/DroidSerif-Regular.ttf': 1,\n",
        " '/usr/share/fonts/truetype/font-awesome/fontawesome-webfont.ttf': 1,\n",
        " '/usr/share/fonts/truetype/lyx/cmex10.ttf': 1,\n",
        " '/usr/share/fonts/truetype/lyx/cmmi10.ttf': 1,\n",
        " '/usr/share/fonts/truetype/lyx/cmr10.ttf': 1,\n",
        " '/usr/share/fonts/truetype/lyx/cmsy10.ttf': 1,\n",
        " '/usr/share/fonts/truetype/lyx/esint10.ttf': 1,\n",
        " '/usr/share/fonts/truetype/lyx/eufm10.ttf': 1,\n",
        " '/usr/share/fonts/truetype/lyx/msam10.ttf': 1,\n",
        " '/usr/share/fonts/truetype/lyx/msbm10.ttf': 1,\n",
        " '/usr/share/fonts/truetype/lyx/rsfs10.ttf': 1,\n",
        " '/usr/share/fonts/truetype/lyx/wasy10.ttf': 1,\n",
        " '/usr/share/fonts/truetype/noto/NotoSans-Bold.ttf': 1,\n",
        " '/usr/share/fonts/truetype/noto/NotoSans-BoldItalic.ttf': 1,\n",
        " '/usr/share/fonts/truetype/noto/NotoSans-Italic.ttf': 1,\n",
        " '/usr/share/fonts/truetype/noto/NotoSans-Regular.ttf': 1,\n",
        " '/usr/share/fonts/truetype/noto/NotoSansArmenian-Bold.ttf': 1,\n",
        " '/usr/share/fonts/truetype/noto/NotoSansArmenian-Regular.ttf': 1,\n",
        " '/usr/share/fonts/truetype/noto/NotoSansDevanagari-Bold.ttf': 1,\n",
        " '/usr/share/fonts/truetype/noto/NotoSansDevanagari-Regular.ttf': 1,\n",
        " '/usr/share/fonts/truetype/noto/NotoSansDevanagariUI-Bold.ttf': 1,\n",
        " '/usr/share/fonts/truetype/noto/NotoSansDevanagariUI-Regular.ttf': 1,\n",
        " '/usr/share/fonts/truetype/noto/NotoSansEthiopic-Bold.ttf': 1,\n",
        " '/usr/share/fonts/truetype/noto/NotoSansEthiopic-Regular.ttf': 1,\n",
        " '/usr/share/fonts/truetype/noto/NotoSansGeorgian-Bold.ttf': 1,\n",
        " '/usr/share/fonts/truetype/noto/NotoSansGeorgian-Regular.ttf': 1,\n",
        " '/usr/share/fonts/truetype/noto/NotoSansHebrew-Bold.ttf': 1,\n",
        " '/usr/share/fonts/truetype/noto/NotoSansHebrew-Regular.ttf': 1,\n",
        " '/usr/share/fonts/truetype/noto/NotoSansKhmer-Bold.ttf': 1,\n",
        " '/usr/share/fonts/truetype/noto/NotoSansKhmer-Regular.ttf': 1,\n",
        " '/usr/share/fonts/truetype/noto/NotoSansKhmerUI-Bold.ttf': 1,\n",
        " '/usr/share/fonts/truetype/noto/NotoSansKhmerUI-Regular.ttf': 1,\n",
        " '/usr/share/fonts/truetype/noto/NotoSansLao-Bold.ttf': 1,\n",
        " '/usr/share/fonts/truetype/noto/NotoSansLao-Regular.ttf': 1,\n",
        " '/usr/share/fonts/truetype/noto/NotoSansLaoUI-Bold.ttf': 1,\n",
        " '/usr/share/fonts/truetype/noto/NotoSansLaoUI-Regular.ttf': 1,\n",
        " '/usr/share/fonts/truetype/noto/NotoSansTamil-Bold.ttf': 1,\n",
        " '/usr/share/fonts/truetype/noto/NotoSansTamil-Regular.ttf': 1,\n",
        " '/usr/share/fonts/truetype/noto/NotoSansTamilUI-Bold.ttf': 1,\n",
        " '/usr/share/fonts/truetype/noto/NotoSansTamilUI-Regular.ttf': 1,\n",
        " '/usr/share/fonts/truetype/noto/NotoSansThai-Bold.ttf': 1,\n",
        " '/usr/share/fonts/truetype/noto/NotoSansThai-Regular.ttf': 1,\n",
        " '/usr/share/fonts/truetype/noto/NotoSansThaiUI-Bold.ttf': 1,\n",
        " '/usr/share/fonts/truetype/noto/NotoSansThaiUI-Regular.ttf': 1,\n",
        " '/usr/share/fonts/truetype/noto/NotoSansUI-Bold.ttf': 1,\n",
        " '/usr/share/fonts/truetype/noto/NotoSansUI-BoldItalic.ttf': 1,\n",
        " '/usr/share/fonts/truetype/noto/NotoSansUI-Italic.ttf': 1,\n",
        " '/usr/share/fonts/truetype/noto/NotoSansUI-Regular.ttf': 1,\n",
        " '/usr/share/fonts/truetype/noto/NotoSerif-Bold.ttf': 1,\n",
        " '/usr/share/fonts/truetype/noto/NotoSerif-BoldItalic.ttf': 1,\n",
        " '/usr/share/fonts/truetype/noto/NotoSerif-Italic.ttf': 1,\n",
        " '/usr/share/fonts/truetype/noto/NotoSerif-Regular.ttf': 1,\n",
        " '/usr/share/fonts/truetype/noto/NotoSerifArmenian-Bold.ttf': 1,\n",
        " '/usr/share/fonts/truetype/noto/NotoSerifArmenian-Regular.ttf': 1,\n",
        " '/usr/share/fonts/truetype/noto/NotoSerifGeorgian-Bold.ttf': 1,\n",
        " '/usr/share/fonts/truetype/noto/NotoSerifGeorgian-Regular.ttf': 1,\n",
        " '/usr/share/fonts/truetype/noto/NotoSerifLao-Bold.ttf': 1,\n",
        " '/usr/share/fonts/truetype/noto/NotoSerifLao-Regular.ttf': 1,\n",
        " '/usr/share/fonts/truetype/noto/NotoSerifThai-Bold.ttf': 1,\n",
        " '/usr/share/fonts/truetype/noto/NotoSerifThai-Regular.ttf': 1,\n",
        " '/usr/share/fonts/truetype/ttf-bitstream-vera/Vera.ttf': 1,\n",
        " '/usr/share/fonts/truetype/ttf-bitstream-vera/VeraBI.ttf': 1,\n",
        " '/usr/share/fonts/truetype/ttf-bitstream-vera/VeraBd.ttf': 1,\n",
        " '/usr/share/fonts/truetype/ttf-bitstream-vera/VeraIt.ttf': 1,\n",
        " '/usr/share/fonts/truetype/ttf-bitstream-vera/VeraMoBI.ttf': 1,\n",
        " '/usr/share/fonts/truetype/ttf-bitstream-vera/VeraMoBd.ttf': 1,\n",
        " '/usr/share/fonts/truetype/ttf-bitstream-vera/VeraMoIt.ttf': 1,\n",
        " '/usr/share/fonts/truetype/ttf-bitstream-vera/VeraMono.ttf': 1,\n",
        " '/usr/share/fonts/truetype/ttf-bitstream-vera/VeraSe.ttf': 1,\n",
        " '/usr/share/fonts/truetype/ttf-bitstream-vera/VeraSeBd.ttf': 1,\n",
        " '/usr/share/texmf/fonts/opentype/public/tex-gyre-math/texgyrepagella-math.otf': 1,\n",
        " '/usr/share/texmf/fonts/opentype/public/tex-gyre-math/texgyretermes-math.otf': 1,\n",
        " '/usr/share/texmf/fonts/opentype/public/tex-gyre/texgyreadventor-bold.otf': 1,\n",
        " '/usr/share/texmf/fonts/opentype/public/tex-gyre/texgyreadventor-bolditalic.otf': 1,\n",
        " '/usr/share/texmf/fonts/opentype/public/tex-gyre/texgyreadventor-italic.otf': 1,\n",
        " '/usr/share/texmf/fonts/opentype/public/tex-gyre/texgyreadventor-regular.otf': 1,\n",
        " '/usr/share/texmf/fonts/opentype/public/tex-gyre/texgyrebonum-bold.otf': 1,\n",
        " '/usr/share/texmf/fonts/opentype/public/tex-gyre/texgyrebonum-bolditalic.otf': 1,\n",
        " '/usr/share/texmf/fonts/opentype/public/tex-gyre/texgyrebonum-italic.otf': 1,\n",
        " '/usr/share/texmf/fonts/opentype/public/tex-gyre/texgyrebonum-regular.otf': 1,\n",
        " '/usr/share/texmf/fonts/opentype/public/tex-gyre/texgyrechorus-mediumitalic.otf': 1,\n",
        " '/usr/share/texmf/fonts/opentype/public/tex-gyre/texgyrecursor-bold.otf': 1,\n",
        " '/usr/share/texmf/fonts/opentype/public/tex-gyre/texgyrecursor-bolditalic.otf': 1,\n",
        " '/usr/share/texmf/fonts/opentype/public/tex-gyre/texgyrecursor-italic.otf': 1,\n",
        " '/usr/share/texmf/fonts/opentype/public/tex-gyre/texgyrecursor-regular.otf': 1,\n",
        " '/usr/share/texmf/fonts/opentype/public/tex-gyre/texgyreheros-bold.otf': 1,\n",
        " '/usr/share/texmf/fonts/opentype/public/tex-gyre/texgyreheros-bolditalic.otf': 1,\n",
        " '/usr/share/texmf/fonts/opentype/public/tex-gyre/texgyreheros-italic.otf': 1,\n",
        " '/usr/share/texmf/fonts/opentype/public/tex-gyre/texgyreheros-regular.otf': 1,\n",
        " '/usr/share/texmf/fonts/opentype/public/tex-gyre/texgyreheroscn-bold.otf': 1,\n",
        " '/usr/share/texmf/fonts/opentype/public/tex-gyre/texgyreheroscn-bolditalic.otf': 1,\n",
        " '/usr/share/texmf/fonts/opentype/public/tex-gyre/texgyreheroscn-italic.otf': 1,\n",
        " '/usr/share/texmf/fonts/opentype/public/tex-gyre/texgyreheroscn-regular.otf': 1,\n",
        " '/usr/share/texmf/fonts/opentype/public/tex-gyre/texgyrepagella-bold.otf': 1,\n",
        " '/usr/share/texmf/fonts/opentype/public/tex-gyre/texgyrepagella-bolditalic.otf': 1,\n",
        " '/usr/share/texmf/fonts/opentype/public/tex-gyre/texgyrepagella-italic.otf': 1,\n",
        " '/usr/share/texmf/fonts/opentype/public/tex-gyre/texgyrepagella-regular.otf': 1,\n",
        " '/usr/share/texmf/fonts/opentype/public/tex-gyre/texgyreschola-bold.otf': 1,\n",
        " '/usr/share/texmf/fonts/opentype/public/tex-gyre/texgyreschola-bolditalic.otf': 1,\n",
        " '/usr/share/texmf/fonts/opentype/public/tex-gyre/texgyreschola-italic.otf': 1,\n",
        " '/usr/share/texmf/fonts/opentype/public/tex-gyre/texgyreschola-regular.otf': 1,\n",
        " '/usr/share/texmf/fonts/opentype/public/tex-gyre/texgyretermes-bold.otf': 1,\n",
        " '/usr/share/texmf/fonts/opentype/public/tex-gyre/texgyretermes-bolditalic.otf': 1,\n",
        " '/usr/share/texmf/fonts/opentype/public/tex-gyre/texgyretermes-italic.otf': 1,\n",
        " '/usr/share/texmf/fonts/opentype/public/tex-gyre/texgyretermes-regular.otf': 1}"
       ]
      }
     ],
     "prompt_number": 375
    },
    {
     "cell_type": "code",
     "collapsed": false,
     "input": [
      "prop = fm.FontProperties(fname='/usr/share/fonts/truetype/droid/DroidSans.ttf')\n",
      "prop.get_name()"
     ],
     "language": "python",
     "metadata": {},
     "outputs": [
      {
       "metadata": {},
       "output_type": "pyout",
       "prompt_number": 376,
       "text": [
        "'Droid Sans'"
       ]
      }
     ],
     "prompt_number": 376
    },
    {
     "cell_type": "code",
     "collapsed": false,
     "input": [
      "rates_df = pd.read_csv(os.path.join(data_dir, 'rates.tsv'), sep='\\t', header=None, names=['ad', 'rate'])\n",
      "rates_df.head()"
     ],
     "language": "python",
     "metadata": {},
     "outputs": [
      {
       "html": [
        "<div style=\"max-height:1000px;max-width:1500px;overflow:auto;\">\n",
        "<table border=\"1\" class=\"dataframe\">\n",
        "  <thead>\n",
        "    <tr style=\"text-align: right;\">\n",
        "      <th></th>\n",
        "      <th>ad</th>\n",
        "      <th>rate</th>\n",
        "    </tr>\n",
        "  </thead>\n",
        "  <tbody>\n",
        "    <tr>\n",
        "      <th>0</th>\n",
        "      <td>adultsearch:10054</td>\n",
        "      <td>$200,1 HOUR</td>\n",
        "    </tr>\n",
        "    <tr>\n",
        "      <th>1</th>\n",
        "      <td>adultsearch:10063</td>\n",
        "      <td>$200,1 HOUR</td>\n",
        "    </tr>\n",
        "    <tr>\n",
        "      <th>2</th>\n",
        "      <td>adultsearch:10080</td>\n",
        "      <td>$150,30 MINS</td>\n",
        "    </tr>\n",
        "    <tr>\n",
        "      <th>3</th>\n",
        "      <td>adultsearch:10080</td>\n",
        "      <td>200,NO DURATION</td>\n",
        "    </tr>\n",
        "    <tr>\n",
        "      <th>4</th>\n",
        "      <td>adultsearch:101</td>\n",
        "      <td>500,2 HOURS</td>\n",
        "    </tr>\n",
        "  </tbody>\n",
        "</table>\n",
        "</div>"
       ],
       "metadata": {},
       "output_type": "pyout",
       "prompt_number": 7,
       "text": [
        "                  ad             rate\n",
        "0  adultsearch:10054      $200,1 HOUR\n",
        "1  adultsearch:10063      $200,1 HOUR\n",
        "2  adultsearch:10080     $150,30 MINS\n",
        "3  adultsearch:10080  200,NO DURATION\n",
        "4    adultsearch:101      500,2 HOURS"
       ]
      }
     ],
     "prompt_number": 7
    },
    {
     "cell_type": "markdown",
     "metadata": {},
     "source": [
      "##Cleaning up rates file\n",
      "\n",
      "First, we need to separate the pricing from the units of time, and standardize their appearances."
     ]
    },
    {
     "cell_type": "code",
     "collapsed": false,
     "input": [
      "len(rates_df.rate.unique()), rates_df.shape[0]\n",
      "\n",
      "# The number of total types of rates in this file, and the number of rows:"
     ],
     "language": "python",
     "metadata": {},
     "outputs": [
      {
       "metadata": {},
       "output_type": "pyout",
       "prompt_number": 10,
       "text": [
        "(1818, 1751437)"
       ]
      }
     ],
     "prompt_number": 10
    },
    {
     "cell_type": "code",
     "collapsed": false,
     "input": [
      "rates_df['price'] = rates_df.rate.str.split(',').str.get(0).str.strip('$')\n",
      "rates_df['time_unit'] = rates_df.rate.str.split(',').str.get(1)"
     ],
     "language": "python",
     "metadata": {},
     "outputs": [],
     "prompt_number": 11
    },
    {
     "cell_type": "markdown",
     "metadata": {},
     "source": [
      "Second, we remove prices that do not have any units of time."
     ]
    },
    {
     "cell_type": "code",
     "collapsed": false,
     "input": [
      "print rates_df.shape\n",
      "rates_df = rates_df[rates_df['time_unit'] != 'NO DURATION']\n",
      "print rates_df.shape"
     ],
     "language": "python",
     "metadata": {},
     "outputs": [
      {
       "output_type": "stream",
       "stream": "stdout",
       "text": [
        "(1751437, 4)\n",
        "(1396454, 4)"
       ]
      },
      {
       "output_type": "stream",
       "stream": "stdout",
       "text": [
        "\n"
       ]
      }
     ],
     "prompt_number": 13
    },
    {
     "cell_type": "markdown",
     "metadata": {},
     "source": [
      "## Loading clusters\n",
      "\n",
      "We merge cluster information into the rates, to get provider-level pricing."
     ]
    },
    {
     "cell_type": "code",
     "collapsed": false,
     "input": [
      "clusters_df = pd.read_csv(os.path.join(data_dir, 'made/doc-provider-sorted.tsv'), header=None, names=['cluster', 'date', 'ad'])\n",
      "clusters_df.head()"
     ],
     "language": "python",
     "metadata": {},
     "outputs": [
      {
       "html": [
        "<div style=\"max-height:1000px;max-width:1500px;overflow:auto;\">\n",
        "<table border=\"1\" class=\"dataframe\">\n",
        "  <thead>\n",
        "    <tr style=\"text-align: right;\">\n",
        "      <th></th>\n",
        "      <th>cluster</th>\n",
        "      <th>date</th>\n",
        "      <th>ad</th>\n",
        "    </tr>\n",
        "  </thead>\n",
        "  <tbody>\n",
        "    <tr>\n",
        "      <th>0</th>\n",
        "      <td>cluster:10000000</td>\n",
        "      <td>2013-11-19 07:31:00</td>\n",
        "      <td>backpage:1281345</td>\n",
        "    </tr>\n",
        "    <tr>\n",
        "      <th>1</th>\n",
        "      <td>cluster:10000001</td>\n",
        "      <td>2014-10-30 11:35:00</td>\n",
        "      <td>backpage:9485641</td>\n",
        "    </tr>\n",
        "    <tr>\n",
        "      <th>2</th>\n",
        "      <td>cluster:10000002</td>\n",
        "      <td>2014-08-14 12:24:00</td>\n",
        "      <td>backpage:7759152</td>\n",
        "    </tr>\n",
        "    <tr>\n",
        "      <th>3</th>\n",
        "      <td>cluster:10000002</td>\n",
        "      <td>2014-11-12 18:27:00</td>\n",
        "      <td>backpage:10098442</td>\n",
        "    </tr>\n",
        "    <tr>\n",
        "      <th>4</th>\n",
        "      <td>cluster:10000003</td>\n",
        "      <td>2014-01-16 11:34:00</td>\n",
        "      <td>backpage:1967893</td>\n",
        "    </tr>\n",
        "  </tbody>\n",
        "</table>\n",
        "</div>"
       ],
       "metadata": {},
       "output_type": "pyout",
       "prompt_number": 14,
       "text": [
        "            cluster                 date                 ad\n",
        "0  cluster:10000000  2013-11-19 07:31:00   backpage:1281345\n",
        "1  cluster:10000001  2014-10-30 11:35:00   backpage:9485641\n",
        "2  cluster:10000002  2014-08-14 12:24:00   backpage:7759152\n",
        "3  cluster:10000002  2014-11-12 18:27:00  backpage:10098442\n",
        "4  cluster:10000003  2014-01-16 11:34:00   backpage:1967893"
       ]
      }
     ],
     "prompt_number": 14
    },
    {
     "cell_type": "code",
     "collapsed": false,
     "input": [
      "cluster_rates = pd.merge(clusters_df, rates_df, on='ad')"
     ],
     "language": "python",
     "metadata": {},
     "outputs": [],
     "prompt_number": 72
    },
    {
     "cell_type": "code",
     "collapsed": false,
     "input": [
      "def get_price_by_unit(df, unit):\n",
      "    df[unit] = df.time_unit == unit\n",
      "    all_one_unit = df.groupby('cluster')[unit].all()\n",
      "    \n",
      "    df['price'] = df['price'].convert_objects(convert_numeric=True)\n",
      "    all_unit_prices = df[df[unit]]\n",
      "    mean_unit_price = all_unit_prices.groupby('cluster').price.mean()\n",
      "    \n",
      "    price_per_unit = pd.merge(mean_unit_price.reset_index(), all_one_unit.reset_index(), on='cluster')\n",
      "    \n",
      "    return price_per_unit"
     ],
     "language": "python",
     "metadata": {},
     "outputs": [],
     "prompt_number": 85
    },
    {
     "cell_type": "code",
     "collapsed": false,
     "input": [
      "cluster_rates['one_hour'] = cluster_rates['time_unit'] == '1 HOUR'"
     ],
     "language": "python",
     "metadata": {},
     "outputs": [],
     "prompt_number": 22
    },
    {
     "cell_type": "code",
     "collapsed": false,
     "input": [
      "all_one_hour = cluster_rates.groupby('cluster').one_hour.all()"
     ],
     "language": "python",
     "metadata": {},
     "outputs": [],
     "prompt_number": 29
    },
    {
     "cell_type": "code",
     "collapsed": false,
     "input": [
      "cluster_rates['price'] = cluster_rates['price'].convert_objects(convert_numeric=True)\n",
      "cluster_rates['price'].dropna(inplace=True)\n",
      "one_hour_prices = cluster_rates[cluster_rates['one_hour']]"
     ],
     "language": "python",
     "metadata": {},
     "outputs": [],
     "prompt_number": 38
    },
    {
     "cell_type": "code",
     "collapsed": false,
     "input": [
      "mean_one_hour_price = one_hour_prices.groupby('cluster').price.mean()"
     ],
     "language": "python",
     "metadata": {},
     "outputs": [],
     "prompt_number": 40
    },
    {
     "cell_type": "code",
     "collapsed": false,
     "input": [
      "price_has_hour = pd.merge(mean_one_hour_price.reset_index(), all_one_hour.reset_index(), on='cluster')\n",
      "price_has_hour.head()"
     ],
     "language": "python",
     "metadata": {},
     "outputs": [
      {
       "html": [
        "<div style=\"max-height:1000px;max-width:1500px;overflow:auto;\">\n",
        "<table border=\"1\" class=\"dataframe\">\n",
        "  <thead>\n",
        "    <tr style=\"text-align: right;\">\n",
        "      <th></th>\n",
        "      <th>cluster</th>\n",
        "      <th>price</th>\n",
        "      <th>one_hour</th>\n",
        "    </tr>\n",
        "  </thead>\n",
        "  <tbody>\n",
        "    <tr>\n",
        "      <th>0</th>\n",
        "      <td>cluster:10000025</td>\n",
        "      <td>300</td>\n",
        "      <td>True</td>\n",
        "    </tr>\n",
        "    <tr>\n",
        "      <th>1</th>\n",
        "      <td>cluster:10000102</td>\n",
        "      <td>175</td>\n",
        "      <td>True</td>\n",
        "    </tr>\n",
        "    <tr>\n",
        "      <th>2</th>\n",
        "      <td>cluster:10000188</td>\n",
        "      <td>160</td>\n",
        "      <td>True</td>\n",
        "    </tr>\n",
        "    <tr>\n",
        "      <th>3</th>\n",
        "      <td>cluster:10000190</td>\n",
        "      <td>120</td>\n",
        "      <td>True</td>\n",
        "    </tr>\n",
        "    <tr>\n",
        "      <th>4</th>\n",
        "      <td>cluster:10000191</td>\n",
        "      <td>40</td>\n",
        "      <td>True</td>\n",
        "    </tr>\n",
        "  </tbody>\n",
        "</table>\n",
        "</div>"
       ],
       "metadata": {},
       "output_type": "pyout",
       "prompt_number": 47,
       "text": [
        "            cluster  price one_hour\n",
        "0  cluster:10000025    300     True\n",
        "1  cluster:10000102    175     True\n",
        "2  cluster:10000188    160     True\n",
        "3  cluster:10000190    120     True\n",
        "4  cluster:10000191     40     True"
       ]
      }
     ],
     "prompt_number": 47
    },
    {
     "cell_type": "markdown",
     "metadata": {},
     "source": [
      "## Exploration\n",
      "What is the breakdown of prices for clusters with only one hour prices vs those with multiple?"
     ]
    },
    {
     "cell_type": "code",
     "collapsed": false,
     "input": [
      "price_has_hour.shape, (~price_has_hour.one_hour).sum()"
     ],
     "language": "python",
     "metadata": {},
     "outputs": [
      {
       "metadata": {},
       "output_type": "pyout",
       "prompt_number": 62,
       "text": [
        "((223356, 3), 112535)"
       ]
      }
     ],
     "prompt_number": 62
    },
    {
     "cell_type": "code",
     "collapsed": false,
     "input": [
      "# Cut off outliers\n",
      "price_has_hour.dropna(axis=0, subset=['price'], inplace=True)"
     ],
     "language": "python",
     "metadata": {},
     "outputs": [],
     "prompt_number": 105
    },
    {
     "cell_type": "code",
     "collapsed": false,
     "input": [
      "def reject_outliers(data, m=3):\n",
      "    return data[abs(data - np.mean(data)) < m * np.std(data)]"
     ],
     "language": "python",
     "metadata": {},
     "outputs": [],
     "prompt_number": 119
    },
    {
     "cell_type": "code",
     "collapsed": false,
     "input": [
      "price_has_hour.to_csv(os.path.join(data_dir, 'made/multiple_rates_plots_raw.csv'), index=False)"
     ],
     "language": "python",
     "metadata": {},
     "outputs": [],
     "prompt_number": 354
    },
    {
     "cell_type": "code",
     "collapsed": false,
     "input": [
      "seaborn.set(font='Droid Sans')\n",
      "g = seaborn.violinplot([reject_outliers2(price_has_hour[price_has_hour.one_hour].price, 500),\n",
      "                   reject_outliers2(price_has_hour[~price_has_hour.one_hour].price, 500)],\n",
      "                       names=['Only one hour rates (n=110,821)', 'Multiple rates (n=112,535)']\n",
      "                   )\n",
      "\n",
      "seaborn.axlabel('Type of provider', 'Average listed one hour price (dollars)')\n",
      "plt.title('Mean one-hour rate for single vs. multiple rate providers (n=223,356)')\n",
      "#plt.savefig(os.path.join(plot_dir, 'one_hour_single_vs_multiple_violin.png'))"
     ],
     "language": "python",
     "metadata": {},
     "outputs": [
      {
       "metadata": {},
       "output_type": "pyout",
       "prompt_number": 379,
       "text": [
        "<matplotlib.text.Text at 0x7fd9794488d0>"
       ]
      },
      {
       "metadata": {},
       "output_type": "display_data",
       "png": "[encoded data removed]",
       "text": [
        "<matplotlib.figure.Figure at 0x7fd97945e810>"
       ]
      }
     ],
     "prompt_number": 379
    },
    {
     "cell_type": "code",
     "collapsed": false,
     "input": [
      "seaborn.kdeplot(reject_outliers2(price_has_hour[price_has_hour.one_hour].price, 500), label='Only one hour rates (n=110,821)', legend=True)\n",
      "seaborn.kdeplot(reject_outliers2(price_has_hour[~price_has_hour.one_hour].price, 500), label='Multiple rates (n=112,535)', legend=True)\n",
      "\n",
      "seaborn.axlabel('Type of provider', 'Average listed one hour price (dollars)')\n",
      "plt.title('Mean one-hour rate for single vs. multiple rate providers (n=223,356)')\n",
      "plt.savefig(os.path.join(plot_dir, 'one_hour_single_vs_multiple_kde.png'))"
     ],
     "language": "python",
     "metadata": {},
     "outputs": [
      {
       "metadata": {},
       "output_type": "display_data",
       "png": "[encoded data removed]",
       "text": [
        "<matplotlib.figure.Figure at 0x7fda368247d0>"
       ]
      }
     ],
     "prompt_number": 140
    },
    {
     "cell_type": "code",
     "collapsed": false,
     "input": [
      "ks_2samp(reject_outliers2(price_has_hour[price_has_hour.one_hour].price, 500),\n",
      "                   reject_outliers2(price_has_hour[~price_has_hour.one_hour].price, 500))"
     ],
     "language": "python",
     "metadata": {},
     "outputs": [
      {
       "metadata": {},
       "output_type": "pyout",
       "prompt_number": 142,
       "text": [
        "(0.12407618861023401, 0.0)"
       ]
      }
     ],
     "prompt_number": 142
    },
    {
     "cell_type": "code",
     "collapsed": false,
     "input": [
      "ks_2samp(price_has_hour[price_has_hour.one_hour].price.dropna(),\n",
      "                   price_has_hour[~price_has_hour.one_hour].price.dropna())"
     ],
     "language": "python",
     "metadata": {},
     "outputs": [
      {
       "metadata": {},
       "output_type": "pyout",
       "prompt_number": 94,
       "text": [
        "(0.12124750178022733, 0.0)"
       ]
      }
     ],
     "prompt_number": 94
    },
    {
     "cell_type": "markdown",
     "metadata": {},
     "source": [
      "## Half-hour"
     ]
    },
    {
     "cell_type": "code",
     "collapsed": false,
     "input": [
      "price_has_half_hour = get_price_by_unit(cluster_rates, '30 MINS')"
     ],
     "language": "python",
     "metadata": {},
     "outputs": [],
     "prompt_number": 87
    },
    {
     "cell_type": "code",
     "collapsed": false,
     "input": [
      "price_has_half_hour.shape, (~price_has_half_hour['30 MINS']).sum(), (price_has_half_hour['30 MINS']).sum()"
     ],
     "language": "python",
     "metadata": {},
     "outputs": [
      {
       "metadata": {},
       "output_type": "pyout",
       "prompt_number": 89,
       "text": [
        "((198711, 3), 118867, 79844)"
       ]
      }
     ],
     "prompt_number": 89
    },
    {
     "cell_type": "code",
     "collapsed": false,
     "input": [
      "price_has_half_hour.dropna(subset=['30 MINS'], inplace=True)"
     ],
     "language": "python",
     "metadata": {},
     "outputs": [],
     "prompt_number": 112
    },
    {
     "cell_type": "code",
     "collapsed": false,
     "input": [
      "def reject_outliers2(data, x):\n",
      "    return data[data < x]"
     ],
     "language": "python",
     "metadata": {},
     "outputs": [],
     "prompt_number": 135
    },
    {
     "cell_type": "code",
     "collapsed": false,
     "input": [
      "g = seaborn.violinplot([reject_outliers2(price_has_half_hour[price_has_half_hour['30 MINS']].price, 300),\n",
      "                   reject_outliers2(price_has_half_hour[~price_has_half_hour['30 MINS']].price, 300)],\n",
      "                       names=['Only half hour rates (n=79,844)', 'Multiple rates (n=118,867)']\n",
      "                   )\n",
      "seaborn.axlabel('Type of provider', 'Average listed half-hour price (dollars)')\n",
      "plt.title('Mean half-hour rate for single vs. multiple rate providers (n=198,711)')\n",
      "plt.savefig(os.path.join(plot_dir, 'half_hour_single_vs_multiple_violin.png'))"
     ],
     "language": "python",
     "metadata": {},
     "outputs": [
      {
       "metadata": {},
       "output_type": "display_data",
       "png": "[encoded data removed]",
       "text": [
        "<matplotlib.figure.Figure at 0x7fd9c9064d50>"
       ]
      }
     ],
     "prompt_number": 136
    },
    {
     "cell_type": "code",
     "collapsed": false,
     "input": [
      "seaborn.kdeplot(reject_outliers2(price_has_half_hour[price_has_half_hour['30 MINS']].price, 300), label='Only one hour rates (n=79,844)', legend=True)\n",
      "seaborn.kdeplot(reject_outliers2(price_has_half_hour[~price_has_half_hour['30 MINS']].price, 300), label='Multiple rates (n=118,867)', legend=True)\n",
      "\n",
      "seaborn.axlabel('Type of provider', 'Average listed half-hour price (dollars)')\n",
      "plt.title('Mean half-hour rate for single vs. multiple rate providers (n=198,771)')\n",
      "plt.savefig(os.path.join(plot_dir, 'half_hour_single_vs_multiple_kde.png'))"
     ],
     "language": "python",
     "metadata": {},
     "outputs": [
      {
       "metadata": {},
       "output_type": "display_data",
       "png": "[encoded data removed]",
       "text": [
        "<matplotlib.figure.Figure at 0x7fda368d87d0>"
       ]
      }
     ],
     "prompt_number": 137
    },
    {
     "cell_type": "code",
     "collapsed": false,
     "input": [
      "ks_2samp(reject_outliers2(price_has_half_hour[price_has_half_hour['30 MINS']].price, 300),\n",
      "                   reject_outliers2(price_has_half_hour[~price_has_half_hour['30 MINS']].price, 300))"
     ],
     "language": "python",
     "metadata": {},
     "outputs": [
      {
       "metadata": {},
       "output_type": "pyout",
       "prompt_number": 139,
       "text": [
        "(0.052718915119007503, 1.4790274842239284e-114)"
       ]
      }
     ],
     "prompt_number": 139
    },
    {
     "cell_type": "code",
     "collapsed": false,
     "input": [
      "ks_2samp(price_has_half_hour[price_has_half_hour['30 MINS']].price,\n",
      "         price_has_half_hour[~price_has_half_hour['30 MINS']].price)"
     ],
     "language": "python",
     "metadata": {},
     "outputs": [
      {
       "metadata": {},
       "output_type": "pyout",
       "prompt_number": 118,
       "text": [
        "(0.047132114851365592, 1.1016713368276785e-92)"
       ]
      }
     ],
     "prompt_number": 118
    },
    {
     "cell_type": "markdown",
     "metadata": {},
     "source": [
      "# Diagnostic Plots\n",
      "\n"
     ]
    },
    {
     "cell_type": "markdown",
     "metadata": {},
     "source": [
      "###0: Number of providers with multiple rates per same unit of time, or multiple units of time w/ same rate"
     ]
    },
    {
     "cell_type": "code",
     "collapsed": false,
     "input": [
      "cluster_rates.head()"
     ],
     "language": "python",
     "metadata": {},
     "outputs": [
      {
       "html": [
        "<div style=\"max-height:1000px;max-width:1500px;overflow:auto;\">\n",
        "<table border=\"1\" class=\"dataframe\">\n",
        "  <thead>\n",
        "    <tr style=\"text-align: right;\">\n",
        "      <th></th>\n",
        "      <th>cluster</th>\n",
        "      <th>date</th>\n",
        "      <th>ad</th>\n",
        "      <th>rate</th>\n",
        "      <th>price</th>\n",
        "      <th>time_unit</th>\n",
        "      <th>30 MINS</th>\n",
        "    </tr>\n",
        "  </thead>\n",
        "  <tbody>\n",
        "    <tr>\n",
        "      <th>0</th>\n",
        "      <td>cluster:10000005</td>\n",
        "      <td>2014-01-18 00:00:00</td>\n",
        "      <td>myproviderguide:133838</td>\n",
        "      <td>100,30 MINS</td>\n",
        "      <td>100</td>\n",
        "      <td>30 MINS</td>\n",
        "      <td>True</td>\n",
        "    </tr>\n",
        "    <tr>\n",
        "      <th>1</th>\n",
        "      <td>cluster:10000025</td>\n",
        "      <td>2012-10-28 00:00:00</td>\n",
        "      <td>escortphonelist:948627</td>\n",
        "      <td>$300,1 HOUR</td>\n",
        "      <td>300</td>\n",
        "      <td>1 HOUR</td>\n",
        "      <td>False</td>\n",
        "    </tr>\n",
        "    <tr>\n",
        "      <th>2</th>\n",
        "      <td>cluster:10000025</td>\n",
        "      <td>2012-12-07 00:00:00</td>\n",
        "      <td>escortphonelist:1474192</td>\n",
        "      <td>$300,1 HOUR</td>\n",
        "      <td>300</td>\n",
        "      <td>1 HOUR</td>\n",
        "      <td>False</td>\n",
        "    </tr>\n",
        "    <tr>\n",
        "      <th>3</th>\n",
        "      <td>cluster:10000099</td>\n",
        "      <td>2013-02-25 00:00:00</td>\n",
        "      <td>escortsincollege:427354</td>\n",
        "      <td>200,30 MINS</td>\n",
        "      <td>200</td>\n",
        "      <td>30 MINS</td>\n",
        "      <td>True</td>\n",
        "    </tr>\n",
        "    <tr>\n",
        "      <th>4</th>\n",
        "      <td>cluster:10000102</td>\n",
        "      <td>2013-12-18 00:00:00</td>\n",
        "      <td>myproviderguide:1047912</td>\n",
        "      <td>175,1 HOUR</td>\n",
        "      <td>175</td>\n",
        "      <td>1 HOUR</td>\n",
        "      <td>False</td>\n",
        "    </tr>\n",
        "  </tbody>\n",
        "</table>\n",
        "</div>"
       ],
       "metadata": {},
       "output_type": "pyout",
       "prompt_number": 239,
       "text": [
        "            cluster                 date                       ad  \\\n",
        "0  cluster:10000005  2014-01-18 00:00:00   myproviderguide:133838   \n",
        "1  cluster:10000025  2012-10-28 00:00:00   escortphonelist:948627   \n",
        "2  cluster:10000025  2012-12-07 00:00:00  escortphonelist:1474192   \n",
        "3  cluster:10000099  2013-02-25 00:00:00  escortsincollege:427354   \n",
        "4  cluster:10000102  2013-12-18 00:00:00  myproviderguide:1047912   \n",
        "\n",
        "          rate  price time_unit 30 MINS  \n",
        "0  100,30 MINS    100   30 MINS    True  \n",
        "1  $300,1 HOUR    300    1 HOUR   False  \n",
        "2  $300,1 HOUR    300    1 HOUR   False  \n",
        "3  200,30 MINS    200   30 MINS    True  \n",
        "4   175,1 HOUR    175    1 HOUR   False  "
       ]
      }
     ],
     "prompt_number": 239
    },
    {
     "cell_type": "code",
     "collapsed": false,
     "input": [
      "unique_time_units = cluster_rates.groupby('cluster').time_unit.nunique()\n",
      "unique_prices = cluster_rates.groupby('cluster').price.nunique()"
     ],
     "language": "python",
     "metadata": {},
     "outputs": [],
     "prompt_number": 159
    },
    {
     "cell_type": "code",
     "collapsed": false,
     "input": [
      "((unique_time_units - unique_prices) != 0).sum()/float(len(unique_time_units)), len(unique_time_units)"
     ],
     "language": "python",
     "metadata": {},
     "outputs": [
      {
       "metadata": {},
       "output_type": "pyout",
       "prompt_number": 166,
       "text": [
        "(0.12704186603580048, 337314)"
       ]
      }
     ],
     "prompt_number": 166
    },
    {
     "cell_type": "markdown",
     "metadata": {},
     "source": [
      "12.7% of the 337,314 providers differed within a time unit or price."
     ]
    },
    {
     "cell_type": "markdown",
     "metadata": {},
     "source": [
      "###1: Correlation matrix of # of ads with zero-time price, avg count of prices per ad, and MSA traits"
     ]
    },
    {
     "cell_type": "markdown",
     "metadata": {},
     "source": [
      "We need to merge in MSA covariates."
     ]
    },
    {
     "cell_type": "code",
     "collapsed": false,
     "input": [
      "df_msa = pd.read_csv(os.path.join(data_dir, 'all_merged.csv'))\n",
      "df_msa.head()"
     ],
     "language": "python",
     "metadata": {},
     "outputs": [
      {
       "html": [
        "<div style=\"max-height:1000px;max-width:1500px;overflow:auto;\">\n",
        "<table border=\"1\" class=\"dataframe\">\n",
        "  <thead>\n",
        "    <tr style=\"text-align: right;\">\n",
        "      <th></th>\n",
        "      <th>month</th>\n",
        "      <th>year</th>\n",
        "      <th>census_msa_code</th>\n",
        "      <th>male_p50</th>\n",
        "      <th>male_p25</th>\n",
        "      <th>male_p75</th>\n",
        "      <th>male_mean.wage</th>\n",
        "      <th>male_sum.wght</th>\n",
        "      <th>male_wage_p05</th>\n",
        "      <th>male_wage_p10</th>\n",
        "      <th>...</th>\n",
        "      <th>prostitution_counts</th>\n",
        "      <th>property</th>\n",
        "      <th>rape</th>\n",
        "      <th>violent</th>\n",
        "      <th>swnauthemp</th>\n",
        "      <th>swnftemp</th>\n",
        "      <th>violence_per_capita</th>\n",
        "      <th>female_violence_share</th>\n",
        "      <th>relative_sex_crime</th>\n",
        "      <th>crime_rate</th>\n",
        "    </tr>\n",
        "  </thead>\n",
        "  <tbody>\n",
        "    <tr>\n",
        "      <th>0</th>\n",
        "      <td>1</td>\n",
        "      <td>2011</td>\n",
        "      <td>31000US10180</td>\n",
        "      <td>14.972276</td>\n",
        "      <td>10.267497</td>\n",
        "      <td>22.916883</td>\n",
        "      <td>19.473210</td>\n",
        "      <td>963.206211</td>\n",
        "      <td>NaN</td>\n",
        "      <td>NaN</td>\n",
        "      <td>...</td>\n",
        "      <td>NaN</td>\n",
        "      <td>4384</td>\n",
        "      <td>33</td>\n",
        "      <td>4384</td>\n",
        "      <td>197</td>\n",
        "      <td>179</td>\n",
        "      <td>NaN</td>\n",
        "      <td>NaN</td>\n",
        "      <td>0.007527</td>\n",
        "      <td>0.041836</td>\n",
        "    </tr>\n",
        "    <tr>\n",
        "      <th>1</th>\n",
        "      <td>1</td>\n",
        "      <td>2011</td>\n",
        "      <td>31000US10420</td>\n",
        "      <td>18.020861</td>\n",
        "      <td>12.578394</td>\n",
        "      <td>26.742999</td>\n",
        "      <td>24.206225</td>\n",
        "      <td>7207.593613</td>\n",
        "      <td>8.0</td>\n",
        "      <td>10.25</td>\n",
        "      <td>...</td>\n",
        "      <td>8</td>\n",
        "      <td>10864</td>\n",
        "      <td>165</td>\n",
        "      <td>10864</td>\n",
        "      <td>1034</td>\n",
        "      <td>975</td>\n",
        "      <td>0.029946</td>\n",
        "      <td>0.626261</td>\n",
        "      <td>0.015188</td>\n",
        "      <td>0.022955</td>\n",
        "    </tr>\n",
        "    <tr>\n",
        "      <th>2</th>\n",
        "      <td>1</td>\n",
        "      <td>2011</td>\n",
        "      <td>31000US10500</td>\n",
        "      <td>16.476696</td>\n",
        "      <td>9.437388</td>\n",
        "      <td>28.089049</td>\n",
        "      <td>22.772185</td>\n",
        "      <td>685.125988</td>\n",
        "      <td>NaN</td>\n",
        "      <td>NaN</td>\n",
        "      <td>...</td>\n",
        "      <td>NaN</td>\n",
        "      <td>NaN</td>\n",
        "      <td>NaN</td>\n",
        "      <td>NaN</td>\n",
        "      <td>NaN</td>\n",
        "      <td>NaN</td>\n",
        "      <td>NaN</td>\n",
        "      <td>NaN</td>\n",
        "      <td>NaN</td>\n",
        "      <td>NaN</td>\n",
        "    </tr>\n",
        "    <tr>\n",
        "      <th>3</th>\n",
        "      <td>1</td>\n",
        "      <td>2011</td>\n",
        "      <td>31000US10580</td>\n",
        "      <td>17.949002</td>\n",
        "      <td>12.386021</td>\n",
        "      <td>25.416924</td>\n",
        "      <td>23.884618</td>\n",
        "      <td>6710.564805</td>\n",
        "      <td>8.0</td>\n",
        "      <td>10.00</td>\n",
        "      <td>...</td>\n",
        "      <td>NaN</td>\n",
        "      <td>NaN</td>\n",
        "      <td>NaN</td>\n",
        "      <td>NaN</td>\n",
        "      <td>NaN</td>\n",
        "      <td>NaN</td>\n",
        "      <td>NaN</td>\n",
        "      <td>NaN</td>\n",
        "      <td>NaN</td>\n",
        "      <td>NaN</td>\n",
        "    </tr>\n",
        "    <tr>\n",
        "      <th>4</th>\n",
        "      <td>1</td>\n",
        "      <td>2011</td>\n",
        "      <td>31000US10740</td>\n",
        "      <td>15.564792</td>\n",
        "      <td>10.119208</td>\n",
        "      <td>25.131450</td>\n",
        "      <td>20.928332</td>\n",
        "      <td>5718.455250</td>\n",
        "      <td>6.1</td>\n",
        "      <td>8.00</td>\n",
        "      <td>...</td>\n",
        "      <td>NaN</td>\n",
        "      <td>27976</td>\n",
        "      <td>264</td>\n",
        "      <td>27976</td>\n",
        "      <td>1347</td>\n",
        "      <td>1208</td>\n",
        "      <td>NaN</td>\n",
        "      <td>NaN</td>\n",
        "      <td>0.009437</td>\n",
        "      <td>0.047427</td>\n",
        "    </tr>\n",
        "  </tbody>\n",
        "</table>\n",
        "<p>5 rows \u00d7 62 columns</p>\n",
        "</div>"
       ],
       "metadata": {},
       "output_type": "pyout",
       "prompt_number": 229,
       "text": [
        "   month  year census_msa_code   male_p50   male_p25   male_p75  \\\n",
        "0      1  2011    31000US10180  14.972276  10.267497  22.916883   \n",
        "1      1  2011    31000US10420  18.020861  12.578394  26.742999   \n",
        "2      1  2011    31000US10500  16.476696   9.437388  28.089049   \n",
        "3      1  2011    31000US10580  17.949002  12.386021  25.416924   \n",
        "4      1  2011    31000US10740  15.564792  10.119208  25.131450   \n",
        "\n",
        "   male_mean.wage  male_sum.wght  male_wage_p05  male_wage_p10     ...      \\\n",
        "0       19.473210     963.206211            NaN            NaN     ...       \n",
        "1       24.206225    7207.593613            8.0          10.25     ...       \n",
        "2       22.772185     685.125988            NaN            NaN     ...       \n",
        "3       23.884618    6710.564805            8.0          10.00     ...       \n",
        "4       20.928332    5718.455250            6.1           8.00     ...       \n",
        "\n",
        "   prostitution_counts  property  rape  violent  swnauthemp  swnftemp  \\\n",
        "0                  NaN      4384    33     4384         197       179   \n",
        "1                    8     10864   165    10864        1034       975   \n",
        "2                  NaN       NaN   NaN      NaN         NaN       NaN   \n",
        "3                  NaN       NaN   NaN      NaN         NaN       NaN   \n",
        "4                  NaN     27976   264    27976        1347      1208   \n",
        "\n",
        "   violence_per_capita female_violence_share  relative_sex_crime  crime_rate  \n",
        "0                  NaN                   NaN            0.007527    0.041836  \n",
        "1             0.029946              0.626261            0.015188    0.022955  \n",
        "2                  NaN                   NaN                 NaN         NaN  \n",
        "3                  NaN                   NaN                 NaN         NaN  \n",
        "4                  NaN                   NaN            0.009437    0.047427  \n",
        "\n",
        "[5 rows x 62 columns]"
       ]
      }
     ],
     "prompt_number": 229
    },
    {
     "cell_type": "code",
     "collapsed": false,
     "input": [
      "df_msa.columns"
     ],
     "language": "python",
     "metadata": {},
     "outputs": [
      {
       "metadata": {},
       "output_type": "pyout",
       "prompt_number": 231,
       "text": [
        "Index([u'month', u'year', u'census_msa_code', u'male_p50', u'male_p25', u'male_p75', u'male_mean.wage', u'male_sum.wght', u'male_wage_p05', u'male_wage_p10', u'male_wage_p25', u'male_wage_p50', u'male_wage_p75', u'male_wage_p90', u'male_wage_p95', u'male_epop', u'female_violence_counts', u'area_fips', u'female_p50', u'female_p25', u'female_p75', u'female_mean.wage', u'female_sum.wght', u'population', u'unemployment', u'lt_highschool', u'highschool', u'some_college', u'college_plus', u'frac_white', u'avg_commute', u'met2013', u'wage_mean.wage', u'wage_var.wage', u'female_wage_p05', u'female_wage_p10', u'female_wage_p25', u'female_wage_p50', u'female_wage_p75', u'female_wage_p90', u'female_wage_p95', u'N', u'wage_sum.wght', u'female_epop', u'MSA', u'msaname', u'total_reports', u'female_violence_fraction', u'female_violence_counts.1', u'violence_fraction', u'violence_counts', u'prostitution_fraction', u'prostitution_counts', u'property', u'rape', u'violent', u'swnauthemp', u'swnftemp', u'violence_per_capita', u'female_violence_share', u'relative_sex_crime', u'crime_rate'], dtype='object')"
       ]
      }
     ],
     "prompt_number": 231
    },
    {
     "cell_type": "code",
     "collapsed": false,
     "input": [
      "regression_columns = ['census_msa_code', 'female_violence_fraction', 'female_violence_counts', 'prostitution_fraction', 'prostitution_counts', 'avg_commute', 'male_epop', 'female_epop', 'female_violence_share','violence_per_capita','female_violence_share','relative_sex_crime','swnftemp','swnauthemp']\n",
      "df_msa_trunc = df_msa[regression_columns]"
     ],
     "language": "python",
     "metadata": {},
     "outputs": [],
     "prompt_number": 244
    },
    {
     "cell_type": "code",
     "collapsed": false,
     "input": [
      "msa_variables = df_msa_trunc.groupby('census_msa_code').mean()"
     ],
     "language": "python",
     "metadata": {},
     "outputs": [],
     "prompt_number": 249
    },
    {
     "cell_type": "code",
     "collapsed": false,
     "input": [
      "# Number of ads with zero-time price = number of ads with more than one listing n = 968,213\n",
      "\n",
      "cluster_rates.head()"
     ],
     "language": "python",
     "metadata": {},
     "outputs": [
      {
       "html": [
        "<div style=\"max-height:1000px;max-width:1500px;overflow:auto;\">\n",
        "<table border=\"1\" class=\"dataframe\">\n",
        "  <thead>\n",
        "    <tr style=\"text-align: right;\">\n",
        "      <th></th>\n",
        "      <th>cluster</th>\n",
        "      <th>date</th>\n",
        "      <th>ad</th>\n",
        "      <th>rate</th>\n",
        "      <th>price</th>\n",
        "      <th>time_unit</th>\n",
        "      <th>30 MINS</th>\n",
        "    </tr>\n",
        "  </thead>\n",
        "  <tbody>\n",
        "    <tr>\n",
        "      <th>0</th>\n",
        "      <td>cluster:10000005</td>\n",
        "      <td>2014-01-18 00:00:00</td>\n",
        "      <td>myproviderguide:133838</td>\n",
        "      <td>100,30 MINS</td>\n",
        "      <td>100</td>\n",
        "      <td>30 MINS</td>\n",
        "      <td>True</td>\n",
        "    </tr>\n",
        "    <tr>\n",
        "      <th>1</th>\n",
        "      <td>cluster:10000025</td>\n",
        "      <td>2012-10-28 00:00:00</td>\n",
        "      <td>escortphonelist:948627</td>\n",
        "      <td>$300,1 HOUR</td>\n",
        "      <td>300</td>\n",
        "      <td>1 HOUR</td>\n",
        "      <td>False</td>\n",
        "    </tr>\n",
        "    <tr>\n",
        "      <th>2</th>\n",
        "      <td>cluster:10000025</td>\n",
        "      <td>2012-12-07 00:00:00</td>\n",
        "      <td>escortphonelist:1474192</td>\n",
        "      <td>$300,1 HOUR</td>\n",
        "      <td>300</td>\n",
        "      <td>1 HOUR</td>\n",
        "      <td>False</td>\n",
        "    </tr>\n",
        "    <tr>\n",
        "      <th>3</th>\n",
        "      <td>cluster:10000099</td>\n",
        "      <td>2013-02-25 00:00:00</td>\n",
        "      <td>escortsincollege:427354</td>\n",
        "      <td>200,30 MINS</td>\n",
        "      <td>200</td>\n",
        "      <td>30 MINS</td>\n",
        "      <td>True</td>\n",
        "    </tr>\n",
        "    <tr>\n",
        "      <th>4</th>\n",
        "      <td>cluster:10000102</td>\n",
        "      <td>2013-12-18 00:00:00</td>\n",
        "      <td>myproviderguide:1047912</td>\n",
        "      <td>175,1 HOUR</td>\n",
        "      <td>175</td>\n",
        "      <td>1 HOUR</td>\n",
        "      <td>False</td>\n",
        "    </tr>\n",
        "  </tbody>\n",
        "</table>\n",
        "</div>"
       ],
       "metadata": {},
       "output_type": "pyout",
       "prompt_number": 385,
       "text": [
        "            cluster                 date                       ad  \\\n",
        "0  cluster:10000005  2014-01-18 00:00:00   myproviderguide:133838   \n",
        "1  cluster:10000025  2012-10-28 00:00:00   escortphonelist:948627   \n",
        "2  cluster:10000025  2012-12-07 00:00:00  escortphonelist:1474192   \n",
        "3  cluster:10000099  2013-02-25 00:00:00  escortsincollege:427354   \n",
        "4  cluster:10000102  2013-12-18 00:00:00  myproviderguide:1047912   \n",
        "\n",
        "          rate  price time_unit 30 MINS  \n",
        "0  100,30 MINS    100   30 MINS    True  \n",
        "1  $300,1 HOUR    300    1 HOUR   False  \n",
        "2  $300,1 HOUR    300    1 HOUR   False  \n",
        "3  200,30 MINS    200   30 MINS    True  \n",
        "4   175,1 HOUR    175    1 HOUR   False  "
       ]
      }
     ],
     "prompt_number": 385
    },
    {
     "cell_type": "code",
     "collapsed": false,
     "input": [
      "prices_by_ad = cluster_rates.groupby('ad').price.mean()"
     ],
     "language": "python",
     "metadata": {},
     "outputs": [],
     "prompt_number": 388
    },
    {
     "cell_type": "code",
     "collapsed": false,
     "input": [
      "listed_rates_by_ad = cluster_rates.groupby('ad').rate.nunique()"
     ],
     "language": "python",
     "metadata": {},
     "outputs": [],
     "prompt_number": 167
    },
    {
     "cell_type": "code",
     "collapsed": false,
     "input": [
      "# This is the count of number of rates that appear in each ad\n",
      "listed_rates_df = listed_rates_by_ad.reset_index()"
     ],
     "language": "python",
     "metadata": {},
     "outputs": [],
     "prompt_number": 178
    },
    {
     "cell_type": "markdown",
     "metadata": {},
     "source": [
      "Join ads with ad-location data, and with location-covariates"
     ]
    },
    {
     "cell_type": "code",
     "collapsed": false,
     "input": [
      "ad_locations = pd.read_csv(os.path.join(data_dir, 'msa_locations.tsv'), sep='\\t',\n",
      "                                        header=None, names=['ad', 'msa'])"
     ],
     "language": "python",
     "metadata": {},
     "outputs": [],
     "prompt_number": 173
    },
    {
     "cell_type": "code",
     "collapsed": false,
     "input": [
      "msa_rates = pd.merge(listed_rates_df, ad_locations, on='ad')"
     ],
     "language": "python",
     "metadata": {},
     "outputs": [],
     "prompt_number": 179
    },
    {
     "cell_type": "code",
     "collapsed": false,
     "input": [
      "msa_prices = pd.merge(prices_by_ad.reset_index(), ad_locations, on='ad')"
     ],
     "language": "python",
     "metadata": {},
     "outputs": [],
     "prompt_number": 392
    },
    {
     "cell_type": "code",
     "collapsed": false,
     "input": [
      "pmsa = msa_prices.groupby('msa').price.mean()"
     ],
     "language": "python",
     "metadata": {},
     "outputs": [],
     "prompt_number": 396
    },
    {
     "cell_type": "code",
     "collapsed": false,
     "input": [
      "seaborn.kdeplot(pmsa[(msa_prices.groupby('msa').count() > 100).ad])"
     ],
     "language": "python",
     "metadata": {},
     "outputs": [
      {
       "metadata": {},
       "output_type": "pyout",
       "prompt_number": 413,
       "text": [
        "<matplotlib.axes.AxesSubplot at 0x7fd9461bca90>"
       ]
      },
      {
       "metadata": {},
       "output_type": "display_data",
       "png": "[encoded data removed]",
       "text": [
        "<matplotlib.figure.Figure at 0x7fd979575490>"
       ]
      }
     ],
     "prompt_number": 413
    },
    {
     "cell_type": "code",
     "collapsed": false,
     "input": [
      "pmsa.describe()"
     ],
     "language": "python",
     "metadata": {},
     "outputs": [
      {
       "metadata": {},
       "output_type": "pyout",
       "prompt_number": 400,
       "text": [
        "count    405.000000\n",
        "mean     151.731075\n",
        "std       64.681000\n",
        "min       32.222222\n",
        "25%      118.958333\n",
        "50%      140.235452\n",
        "75%      171.614532\n",
        "max      520.000000\n",
        "Name: price, dtype: float64"
       ]
      }
     ],
     "prompt_number": 400
    },
    {
     "cell_type": "code",
     "collapsed": false,
     "input": [
      "msa_rates.shape, msa_rates.head()"
     ],
     "language": "python",
     "metadata": {},
     "outputs": [
      {
       "metadata": {},
       "output_type": "pyout",
       "prompt_number": 183,
       "text": [
        "((201255, 3),\n",
        "                   ad  rate           msa\n",
        "0  adultsearch:11091     1  31000US32780\n",
        "1  adultsearch:11176     1  31000US14460\n",
        "2   adultsearch:1118     2  31000US24540\n",
        "3   adultsearch:1248     1  31000US26420\n",
        "4  adultsearch:12682     1  31000US19820)"
       ]
      }
     ],
     "prompt_number": 183
    },
    {
     "cell_type": "code",
     "collapsed": false,
     "input": [
      "msa_rates_binary = msa_rates\n",
      "msa_rates_binary['rate'] = msa_rates.rate > 1"
     ],
     "language": "python",
     "metadata": {},
     "outputs": [],
     "prompt_number": 284
    },
    {
     "cell_type": "code",
     "collapsed": false,
     "input": [
      "msa_rates_binary.head()"
     ],
     "language": "python",
     "metadata": {},
     "outputs": [
      {
       "html": [
        "<div style=\"max-height:1000px;max-width:1500px;overflow:auto;\">\n",
        "<table border=\"1\" class=\"dataframe\">\n",
        "  <thead>\n",
        "    <tr style=\"text-align: right;\">\n",
        "      <th></th>\n",
        "      <th>ad</th>\n",
        "      <th>rate</th>\n",
        "      <th>msa</th>\n",
        "    </tr>\n",
        "  </thead>\n",
        "  <tbody>\n",
        "    <tr>\n",
        "      <th>0</th>\n",
        "      <td>adultsearch:11091</td>\n",
        "      <td>False</td>\n",
        "      <td>31000US32780</td>\n",
        "    </tr>\n",
        "    <tr>\n",
        "      <th>1</th>\n",
        "      <td>adultsearch:11176</td>\n",
        "      <td>False</td>\n",
        "      <td>31000US14460</td>\n",
        "    </tr>\n",
        "    <tr>\n",
        "      <th>2</th>\n",
        "      <td>adultsearch:1118</td>\n",
        "      <td>True</td>\n",
        "      <td>31000US24540</td>\n",
        "    </tr>\n",
        "    <tr>\n",
        "      <th>3</th>\n",
        "      <td>adultsearch:1248</td>\n",
        "      <td>False</td>\n",
        "      <td>31000US26420</td>\n",
        "    </tr>\n",
        "    <tr>\n",
        "      <th>4</th>\n",
        "      <td>adultsearch:12682</td>\n",
        "      <td>False</td>\n",
        "      <td>31000US19820</td>\n",
        "    </tr>\n",
        "  </tbody>\n",
        "</table>\n",
        "</div>"
       ],
       "metadata": {},
       "output_type": "pyout",
       "prompt_number": 285,
       "text": [
        "                  ad   rate           msa\n",
        "0  adultsearch:11091  False  31000US32780\n",
        "1  adultsearch:11176  False  31000US14460\n",
        "2   adultsearch:1118   True  31000US24540\n",
        "3   adultsearch:1248  False  31000US26420\n",
        "4  adultsearch:12682  False  31000US19820"
       ]
      }
     ],
     "prompt_number": 285
    },
    {
     "cell_type": "code",
     "collapsed": false,
     "input": [
      "msa_avg_listed_num = msa_rates.groupby('msa').rate.mean()"
     ],
     "language": "python",
     "metadata": {},
     "outputs": [],
     "prompt_number": 286
    },
    {
     "cell_type": "code",
     "collapsed": false,
     "input": [
      "post_rate_msa_merge = pd.merge(msa_variables.reset_index(), msa_avg_listed_num.reset_index(), left_on='census_msa_code', right_on='msa')"
     ],
     "language": "python",
     "metadata": {},
     "outputs": [],
     "prompt_number": 287
    },
    {
     "cell_type": "code",
     "collapsed": false,
     "input": [
      "final_regressors_with_names = post_rate_msa_merge.drop(['census_msa_code', 'msa'], 1).rename(columns=renames)"
     ],
     "language": "python",
     "metadata": {},
     "outputs": [],
     "prompt_number": 291
    },
    {
     "cell_type": "code",
     "collapsed": false,
     "input": [
      "renames = {'female_violence_fraction': 'Female violence (fraction)',\n",
      "           'female_violence_counts': 'Female violence (counts)',\n",
      "           'prostitution_fraction': 'Prostitution (fraction)',\n",
      "           'prostitution_counts': 'Prostitution (counts)',\n",
      "           'avg_commute': 'Average commute',\n",
      "           'male_epop': 'Male unemployment',\n",
      "           'female_epop': 'Female unemployment',\n",
      "           'violence_per_capita': 'Violence per capita',\n",
      "           'female_violence_share': 'Female violence share',\n",
      "           'relative_sex_crime': 'Relative sex crime',\n",
      "           'swnftemp': 'Law enforcement size (all)',\n",
      "           'swnauthemp': 'Law enforcement size (actual)',\n",
      "           'rate': 'Zero-time price extraction rate'}\n",
      "\n",
      "\n",
      "rs = np.random.RandomState(33)\n",
      "\n",
      "d = rs.normal(size=post_rate_msa_merge.shape)\n",
      "f, ax = plt.subplots(figsize=(9, 9))\n",
      "cmap = seaborn.diverging_palette(220, 10, as_cmap=True)\n",
      "seaborn.corrplot(final_regressors_with_names,\n",
      "                 annot=False, sig_stars=False,\n",
      "             diag_names=False, cmap=cmap, ax=ax)\n",
      "f.tight_layout()\n",
      "\n",
      "f.autofmt_xdate(rotation=45)\n",
      "plt.title('Correlation matrix of MSA-level covariates with zero-time price extraction rate')\n",
      "plt.savefig(os.path.join(plot_dir, 'zero_time_corr_matrix_msa.png'))"
     ],
     "language": "python",
     "metadata": {},
     "outputs": [
      {
       "metadata": {},
       "output_type": "display_data",
       "png": "[encoded data removed]",
       "text": [
        "<matplotlib.figure.Figure at 0x7fd97bee6790>"
       ]
      }
     ],
     "prompt_number": 311
    },
    {
     "cell_type": "code",
     "collapsed": false,
     "input": [
      "final_regressors_with_names.corr()"
     ],
     "language": "python",
     "metadata": {},
     "outputs": [
      {
       "html": [
        "<div style=\"max-height:1000px;max-width:1500px;overflow:auto;\">\n",
        "<table border=\"1\" class=\"dataframe\">\n",
        "  <thead>\n",
        "    <tr style=\"text-align: right;\">\n",
        "      <th></th>\n",
        "      <th>Female violence (fraction)</th>\n",
        "      <th>Female violence (counts)</th>\n",
        "      <th>Prostitution (fraction)</th>\n",
        "      <th>Prostitution (counts)</th>\n",
        "      <th>Average commute</th>\n",
        "      <th>Male unemployment</th>\n",
        "      <th>Female unemployment</th>\n",
        "      <th>Female violence share</th>\n",
        "      <th>Violence per capita</th>\n",
        "      <th>Female violence share</th>\n",
        "      <th>Relative sex crime</th>\n",
        "      <th>Law enforcement size (all)</th>\n",
        "      <th>Law enforcement size (actual)</th>\n",
        "      <th>Zero-time price extraction rate</th>\n",
        "    </tr>\n",
        "  </thead>\n",
        "  <tbody>\n",
        "    <tr>\n",
        "      <th>Female violence (fraction)</th>\n",
        "      <td>1.000000</td>\n",
        "      <td>0.324075</td>\n",
        "      <td>0.277577</td>\n",
        "      <td>0.261158</td>\n",
        "      <td>0.142986</td>\n",
        "      <td>-0.066184</td>\n",
        "      <td>0.129437</td>\n",
        "      <td>0.298697</td>\n",
        "      <td>0.359492</td>\n",
        "      <td>0.298697</td>\n",
        "      <td>0.040348</td>\n",
        "      <td>-0.142041</td>\n",
        "      <td>0.122902</td>\n",
        "      <td>-0.120946</td>\n",
        "    </tr>\n",
        "    <tr>\n",
        "      <th>Female violence (counts)</th>\n",
        "      <td>0.324075</td>\n",
        "      <td>1.000000</td>\n",
        "      <td>0.182267</td>\n",
        "      <td>0.619831</td>\n",
        "      <td>0.318287</td>\n",
        "      <td>0.088656</td>\n",
        "      <td>0.087107</td>\n",
        "      <td>0.102925</td>\n",
        "      <td>0.378996</td>\n",
        "      <td>0.102925</td>\n",
        "      <td>-0.066471</td>\n",
        "      <td>0.296713</td>\n",
        "      <td>0.256507</td>\n",
        "      <td>-0.031160</td>\n",
        "    </tr>\n",
        "    <tr>\n",
        "      <th>Prostitution (fraction)</th>\n",
        "      <td>0.277577</td>\n",
        "      <td>0.182267</td>\n",
        "      <td>1.000000</td>\n",
        "      <td>0.620063</td>\n",
        "      <td>0.100509</td>\n",
        "      <td>0.180076</td>\n",
        "      <td>0.105376</td>\n",
        "      <td>0.161312</td>\n",
        "      <td>0.297870</td>\n",
        "      <td>0.161312</td>\n",
        "      <td>-0.081519</td>\n",
        "      <td>-0.031483</td>\n",
        "      <td>0.061390</td>\n",
        "      <td>-0.109314</td>\n",
        "    </tr>\n",
        "    <tr>\n",
        "      <th>Prostitution (counts)</th>\n",
        "      <td>0.261158</td>\n",
        "      <td>0.619831</td>\n",
        "      <td>0.620063</td>\n",
        "      <td>1.000000</td>\n",
        "      <td>0.290938</td>\n",
        "      <td>0.186482</td>\n",
        "      <td>0.183880</td>\n",
        "      <td>0.070286</td>\n",
        "      <td>0.354433</td>\n",
        "      <td>0.070286</td>\n",
        "      <td>-0.126210</td>\n",
        "      <td>0.175399</td>\n",
        "      <td>0.293105</td>\n",
        "      <td>-0.076493</td>\n",
        "    </tr>\n",
        "    <tr>\n",
        "      <th>Average commute</th>\n",
        "      <td>0.142986</td>\n",
        "      <td>0.318287</td>\n",
        "      <td>0.100509</td>\n",
        "      <td>0.290938</td>\n",
        "      <td>1.000000</td>\n",
        "      <td>0.168343</td>\n",
        "      <td>0.069282</td>\n",
        "      <td>-0.124788</td>\n",
        "      <td>-0.138843</td>\n",
        "      <td>-0.124788</td>\n",
        "      <td>-0.216462</td>\n",
        "      <td>0.550806</td>\n",
        "      <td>0.248758</td>\n",
        "      <td>-0.009137</td>\n",
        "    </tr>\n",
        "    <tr>\n",
        "      <th>Male unemployment</th>\n",
        "      <td>-0.066184</td>\n",
        "      <td>0.088656</td>\n",
        "      <td>0.180076</td>\n",
        "      <td>0.186482</td>\n",
        "      <td>0.168343</td>\n",
        "      <td>1.000000</td>\n",
        "      <td>0.773038</td>\n",
        "      <td>-0.242846</td>\n",
        "      <td>-0.060003</td>\n",
        "      <td>-0.242846</td>\n",
        "      <td>0.366896</td>\n",
        "      <td>0.132744</td>\n",
        "      <td>-0.077797</td>\n",
        "      <td>0.040356</td>\n",
        "    </tr>\n",
        "    <tr>\n",
        "      <th>Female unemployment</th>\n",
        "      <td>0.129437</td>\n",
        "      <td>0.087107</td>\n",
        "      <td>0.105376</td>\n",
        "      <td>0.183880</td>\n",
        "      <td>0.069282</td>\n",
        "      <td>0.773038</td>\n",
        "      <td>1.000000</td>\n",
        "      <td>-0.299242</td>\n",
        "      <td>-0.145966</td>\n",
        "      <td>-0.299242</td>\n",
        "      <td>0.343024</td>\n",
        "      <td>0.042703</td>\n",
        "      <td>-0.113649</td>\n",
        "      <td>0.031870</td>\n",
        "    </tr>\n",
        "    <tr>\n",
        "      <th>Female violence share</th>\n",
        "      <td>0.298697</td>\n",
        "      <td>0.102925</td>\n",
        "      <td>0.161312</td>\n",
        "      <td>0.070286</td>\n",
        "      <td>-0.124788</td>\n",
        "      <td>-0.242846</td>\n",
        "      <td>-0.299242</td>\n",
        "      <td>1.000000</td>\n",
        "      <td>0.042862</td>\n",
        "      <td>1.000000</td>\n",
        "      <td>0.018092</td>\n",
        "      <td>-0.015340</td>\n",
        "      <td>0.006338</td>\n",
        "      <td>0.107263</td>\n",
        "    </tr>\n",
        "    <tr>\n",
        "      <th>Violence per capita</th>\n",
        "      <td>0.359492</td>\n",
        "      <td>0.378996</td>\n",
        "      <td>0.297870</td>\n",
        "      <td>0.354433</td>\n",
        "      <td>-0.138843</td>\n",
        "      <td>-0.060003</td>\n",
        "      <td>-0.145966</td>\n",
        "      <td>0.042862</td>\n",
        "      <td>1.000000</td>\n",
        "      <td>0.042862</td>\n",
        "      <td>0.157770</td>\n",
        "      <td>-0.121168</td>\n",
        "      <td>-0.003984</td>\n",
        "      <td>-0.053391</td>\n",
        "    </tr>\n",
        "    <tr>\n",
        "      <th>Female violence share</th>\n",
        "      <td>0.298697</td>\n",
        "      <td>0.102925</td>\n",
        "      <td>0.161312</td>\n",
        "      <td>0.070286</td>\n",
        "      <td>-0.124788</td>\n",
        "      <td>-0.242846</td>\n",
        "      <td>-0.299242</td>\n",
        "      <td>1.000000</td>\n",
        "      <td>0.042862</td>\n",
        "      <td>1.000000</td>\n",
        "      <td>0.018092</td>\n",
        "      <td>-0.015340</td>\n",
        "      <td>0.006338</td>\n",
        "      <td>0.107263</td>\n",
        "    </tr>\n",
        "    <tr>\n",
        "      <th>Relative sex crime</th>\n",
        "      <td>0.040348</td>\n",
        "      <td>-0.066471</td>\n",
        "      <td>-0.081519</td>\n",
        "      <td>-0.126210</td>\n",
        "      <td>-0.216462</td>\n",
        "      <td>0.366896</td>\n",
        "      <td>0.343024</td>\n",
        "      <td>0.018092</td>\n",
        "      <td>0.157770</td>\n",
        "      <td>0.018092</td>\n",
        "      <td>1.000000</td>\n",
        "      <td>-0.089253</td>\n",
        "      <td>-0.064648</td>\n",
        "      <td>-0.037523</td>\n",
        "    </tr>\n",
        "    <tr>\n",
        "      <th>Law enforcement size (all)</th>\n",
        "      <td>-0.142041</td>\n",
        "      <td>0.296713</td>\n",
        "      <td>-0.031483</td>\n",
        "      <td>0.175399</td>\n",
        "      <td>0.550806</td>\n",
        "      <td>0.132744</td>\n",
        "      <td>0.042703</td>\n",
        "      <td>-0.015340</td>\n",
        "      <td>-0.121168</td>\n",
        "      <td>-0.015340</td>\n",
        "      <td>-0.089253</td>\n",
        "      <td>1.000000</td>\n",
        "      <td>0.173321</td>\n",
        "      <td>-0.032229</td>\n",
        "    </tr>\n",
        "    <tr>\n",
        "      <th>Law enforcement size (actual)</th>\n",
        "      <td>0.122902</td>\n",
        "      <td>0.256507</td>\n",
        "      <td>0.061390</td>\n",
        "      <td>0.293105</td>\n",
        "      <td>0.248758</td>\n",
        "      <td>-0.077797</td>\n",
        "      <td>-0.113649</td>\n",
        "      <td>0.006338</td>\n",
        "      <td>-0.003984</td>\n",
        "      <td>0.006338</td>\n",
        "      <td>-0.064648</td>\n",
        "      <td>0.173321</td>\n",
        "      <td>1.000000</td>\n",
        "      <td>0.039867</td>\n",
        "    </tr>\n",
        "    <tr>\n",
        "      <th>Zero-time price extraction rate</th>\n",
        "      <td>-0.120946</td>\n",
        "      <td>-0.031160</td>\n",
        "      <td>-0.109314</td>\n",
        "      <td>-0.076493</td>\n",
        "      <td>-0.009137</td>\n",
        "      <td>0.040356</td>\n",
        "      <td>0.031870</td>\n",
        "      <td>0.107263</td>\n",
        "      <td>-0.053391</td>\n",
        "      <td>0.107263</td>\n",
        "      <td>-0.037523</td>\n",
        "      <td>-0.032229</td>\n",
        "      <td>0.039867</td>\n",
        "      <td>1.000000</td>\n",
        "    </tr>\n",
        "  </tbody>\n",
        "</table>\n",
        "</div>"
       ],
       "metadata": {},
       "output_type": "pyout",
       "prompt_number": 303,
       "text": [
        "                                 Female violence (fraction)  \\\n",
        "Female violence (fraction)                         1.000000   \n",
        "Female violence (counts)                           0.324075   \n",
        "Prostitution (fraction)                            0.277577   \n",
        "Prostitution (counts)                              0.261158   \n",
        "Average commute                                    0.142986   \n",
        "Male unemployment                                 -0.066184   \n",
        "Female unemployment                                0.129437   \n",
        "Female violence share                              0.298697   \n",
        "Violence per capita                                0.359492   \n",
        "Female violence share                              0.298697   \n",
        "Relative sex crime                                 0.040348   \n",
        "Law enforcement size (all)                        -0.142041   \n",
        "Law enforcement size (actual)                      0.122902   \n",
        "Zero-time price extraction rate                   -0.120946   \n",
        "\n",
        "                                 Female violence (counts)  \\\n",
        "Female violence (fraction)                       0.324075   \n",
        "Female violence (counts)                         1.000000   \n",
        "Prostitution (fraction)                          0.182267   \n",
        "Prostitution (counts)                            0.619831   \n",
        "Average commute                                  0.318287   \n",
        "Male unemployment                                0.088656   \n",
        "Female unemployment                              0.087107   \n",
        "Female violence share                            0.102925   \n",
        "Violence per capita                              0.378996   \n",
        "Female violence share                            0.102925   \n",
        "Relative sex crime                              -0.066471   \n",
        "Law enforcement size (all)                       0.296713   \n",
        "Law enforcement size (actual)                    0.256507   \n",
        "Zero-time price extraction rate                 -0.031160   \n",
        "\n",
        "                                 Prostitution (fraction)  \\\n",
        "Female violence (fraction)                      0.277577   \n",
        "Female violence (counts)                        0.182267   \n",
        "Prostitution (fraction)                         1.000000   \n",
        "Prostitution (counts)                           0.620063   \n",
        "Average commute                                 0.100509   \n",
        "Male unemployment                               0.180076   \n",
        "Female unemployment                             0.105376   \n",
        "Female violence share                           0.161312   \n",
        "Violence per capita                             0.297870   \n",
        "Female violence share                           0.161312   \n",
        "Relative sex crime                             -0.081519   \n",
        "Law enforcement size (all)                     -0.031483   \n",
        "Law enforcement size (actual)                   0.061390   \n",
        "Zero-time price extraction rate                -0.109314   \n",
        "\n",
        "                                 Prostitution (counts)  Average commute  \\\n",
        "Female violence (fraction)                    0.261158         0.142986   \n",
        "Female violence (counts)                      0.619831         0.318287   \n",
        "Prostitution (fraction)                       0.620063         0.100509   \n",
        "Prostitution (counts)                         1.000000         0.290938   \n",
        "Average commute                               0.290938         1.000000   \n",
        "Male unemployment                             0.186482         0.168343   \n",
        "Female unemployment                           0.183880         0.069282   \n",
        "Female violence share                         0.070286        -0.124788   \n",
        "Violence per capita                           0.354433        -0.138843   \n",
        "Female violence share                         0.070286        -0.124788   \n",
        "Relative sex crime                           -0.126210        -0.216462   \n",
        "Law enforcement size (all)                    0.175399         0.550806   \n",
        "Law enforcement size (actual)                 0.293105         0.248758   \n",
        "Zero-time price extraction rate              -0.076493        -0.009137   \n",
        "\n",
        "                                 Male unemployment  Female unemployment  \\\n",
        "Female violence (fraction)               -0.066184             0.129437   \n",
        "Female violence (counts)                  0.088656             0.087107   \n",
        "Prostitution (fraction)                   0.180076             0.105376   \n",
        "Prostitution (counts)                     0.186482             0.183880   \n",
        "Average commute                           0.168343             0.069282   \n",
        "Male unemployment                         1.000000             0.773038   \n",
        "Female unemployment                       0.773038             1.000000   \n",
        "Female violence share                    -0.242846            -0.299242   \n",
        "Violence per capita                      -0.060003            -0.145966   \n",
        "Female violence share                    -0.242846            -0.299242   \n",
        "Relative sex crime                        0.366896             0.343024   \n",
        "Law enforcement size (all)                0.132744             0.042703   \n",
        "Law enforcement size (actual)            -0.077797            -0.113649   \n",
        "Zero-time price extraction rate           0.040356             0.031870   \n",
        "\n",
        "                                 Female violence share  Violence per capita  \\\n",
        "Female violence (fraction)                    0.298697             0.359492   \n",
        "Female violence (counts)                      0.102925             0.378996   \n",
        "Prostitution (fraction)                       0.161312             0.297870   \n",
        "Prostitution (counts)                         0.070286             0.354433   \n",
        "Average commute                              -0.124788            -0.138843   \n",
        "Male unemployment                            -0.242846            -0.060003   \n",
        "Female unemployment                          -0.299242            -0.145966   \n",
        "Female violence share                         1.000000             0.042862   \n",
        "Violence per capita                           0.042862             1.000000   \n",
        "Female violence share                         1.000000             0.042862   \n",
        "Relative sex crime                            0.018092             0.157770   \n",
        "Law enforcement size (all)                   -0.015340            -0.121168   \n",
        "Law enforcement size (actual)                 0.006338            -0.003984   \n",
        "Zero-time price extraction rate               0.107263            -0.053391   \n",
        "\n",
        "                                 Female violence share  Relative sex crime  \\\n",
        "Female violence (fraction)                    0.298697            0.040348   \n",
        "Female violence (counts)                      0.102925           -0.066471   \n",
        "Prostitution (fraction)                       0.161312           -0.081519   \n",
        "Prostitution (counts)                         0.070286           -0.126210   \n",
        "Average commute                              -0.124788           -0.216462   \n",
        "Male unemployment                            -0.242846            0.366896   \n",
        "Female unemployment                          -0.299242            0.343024   \n",
        "Female violence share                         1.000000            0.018092   \n",
        "Violence per capita                           0.042862            0.157770   \n",
        "Female violence share                         1.000000            0.018092   \n",
        "Relative sex crime                            0.018092            1.000000   \n",
        "Law enforcement size (all)                   -0.015340           -0.089253   \n",
        "Law enforcement size (actual)                 0.006338           -0.064648   \n",
        "Zero-time price extraction rate               0.107263           -0.037523   \n",
        "\n",
        "                                 Law enforcement size (all)  \\\n",
        "Female violence (fraction)                        -0.142041   \n",
        "Female violence (counts)                           0.296713   \n",
        "Prostitution (fraction)                           -0.031483   \n",
        "Prostitution (counts)                              0.175399   \n",
        "Average commute                                    0.550806   \n",
        "Male unemployment                                  0.132744   \n",
        "Female unemployment                                0.042703   \n",
        "Female violence share                             -0.015340   \n",
        "Violence per capita                               -0.121168   \n",
        "Female violence share                             -0.015340   \n",
        "Relative sex crime                                -0.089253   \n",
        "Law enforcement size (all)                         1.000000   \n",
        "Law enforcement size (actual)                      0.173321   \n",
        "Zero-time price extraction rate                   -0.032229   \n",
        "\n",
        "                                 Law enforcement size (actual)  \\\n",
        "Female violence (fraction)                            0.122902   \n",
        "Female violence (counts)                              0.256507   \n",
        "Prostitution (fraction)                               0.061390   \n",
        "Prostitution (counts)                                 0.293105   \n",
        "Average commute                                       0.248758   \n",
        "Male unemployment                                    -0.077797   \n",
        "Female unemployment                                  -0.113649   \n",
        "Female violence share                                 0.006338   \n",
        "Violence per capita                                  -0.003984   \n",
        "Female violence share                                 0.006338   \n",
        "Relative sex crime                                   -0.064648   \n",
        "Law enforcement size (all)                            0.173321   \n",
        "Law enforcement size (actual)                         1.000000   \n",
        "Zero-time price extraction rate                       0.039867   \n",
        "\n",
        "                                 Zero-time price extraction rate  \n",
        "Female violence (fraction)                             -0.120946  \n",
        "Female violence (counts)                               -0.031160  \n",
        "Prostitution (fraction)                                -0.109314  \n",
        "Prostitution (counts)                                  -0.076493  \n",
        "Average commute                                        -0.009137  \n",
        "Male unemployment                                       0.040356  \n",
        "Female unemployment                                     0.031870  \n",
        "Female violence share                                   0.107263  \n",
        "Violence per capita                                    -0.053391  \n",
        "Female violence share                                   0.107263  \n",
        "Relative sex crime                                     -0.037523  \n",
        "Law enforcement size (all)                             -0.032229  \n",
        "Law enforcement size (actual)                           0.039867  \n",
        "Zero-time price extraction rate                         1.000000  "
       ]
      }
     ],
     "prompt_number": 303
    },
    {
     "cell_type": "code",
     "collapsed": false,
     "input": [
      "final_regressors_with_names.corr().to_csv(os.path.join(root_dir, 'results/zero_time_corr_matrix_msa.csv'))\n",
      "post_rate_msa_merge.drop(['census_msa_code', 'msa'], 1).to_csv(os.path.join(root_dir, 'results/zero_time_corr_matrix_msa_no_rename.csv'))"
     ],
     "language": "python",
     "metadata": {},
     "outputs": [],
     "prompt_number": 302
    },
    {
     "cell_type": "markdown",
     "metadata": {},
     "source": [
      "201,255 of the ads matched up with MSAs"
     ]
    },
    {
     "cell_type": "markdown",
     "metadata": {},
     "source": [
      "##2: Table of quantiles, stds, and counts for provider diagnostics"
     ]
    },
    {
     "cell_type": "code",
     "collapsed": false,
     "input": [
      "implied_speeds = pd.read_csv(os.path.join(data_dir, 'made/implied_speed_max_by_provider.csv'))\n",
      "implied_speeds.head()"
     ],
     "language": "python",
     "metadata": {},
     "outputs": [
      {
       "html": [
        "<div style=\"max-height:1000px;max-width:1500px;overflow:auto;\">\n",
        "<table border=\"1\" class=\"dataframe\">\n",
        "  <thead>\n",
        "    <tr style=\"text-align: right;\">\n",
        "      <th></th>\n",
        "      <th>cluster_id</th>\n",
        "      <th>miles_per_day</th>\n",
        "    </tr>\n",
        "  </thead>\n",
        "  <tbody>\n",
        "    <tr>\n",
        "      <th>0</th>\n",
        "      <td>cluster:10000050</td>\n",
        "      <td>0.000000</td>\n",
        "    </tr>\n",
        "    <tr>\n",
        "      <th>1</th>\n",
        "      <td>cluster:10000367</td>\n",
        "      <td>2520779.541031</td>\n",
        "    </tr>\n",
        "    <tr>\n",
        "      <th>2</th>\n",
        "      <td>cluster:10000390</td>\n",
        "      <td>17798.478092</td>\n",
        "    </tr>\n",
        "    <tr>\n",
        "      <th>3</th>\n",
        "      <td>cluster:10000394</td>\n",
        "      <td>304.396976</td>\n",
        "    </tr>\n",
        "    <tr>\n",
        "      <th>4</th>\n",
        "      <td>cluster:10000402</td>\n",
        "      <td>8478.983403</td>\n",
        "    </tr>\n",
        "  </tbody>\n",
        "</table>\n",
        "</div>"
       ],
       "metadata": {},
       "output_type": "pyout",
       "prompt_number": 422,
       "text": [
        "         cluster_id   miles_per_day\n",
        "0  cluster:10000050        0.000000\n",
        "1  cluster:10000367  2520779.541031\n",
        "2  cluster:10000390    17798.478092\n",
        "3  cluster:10000394      304.396976\n",
        "4  cluster:10000402     8478.983403"
       ]
      }
     ],
     "prompt_number": 422
    },
    {
     "cell_type": "code",
     "collapsed": false,
     "input": [
      "implied_speeds.describe(percentiles=np.arange(0, 1, .1))"
     ],
     "language": "python",
     "metadata": {},
     "outputs": [
      {
       "html": [
        "<div style=\"max-height:1000px;max-width:1500px;overflow:auto;\">\n",
        "<table border=\"1\" class=\"dataframe\">\n",
        "  <thead>\n",
        "    <tr style=\"text-align: right;\">\n",
        "      <th></th>\n",
        "      <th>miles_per_day</th>\n",
        "    </tr>\n",
        "  </thead>\n",
        "  <tbody>\n",
        "    <tr>\n",
        "      <th>count</th>\n",
        "      <td>44486.000000</td>\n",
        "    </tr>\n",
        "    <tr>\n",
        "      <th>mean</th>\n",
        "      <td>226390.723591</td>\n",
        "    </tr>\n",
        "    <tr>\n",
        "      <th>std</th>\n",
        "      <td>598090.978798</td>\n",
        "    </tr>\n",
        "    <tr>\n",
        "      <th>min</th>\n",
        "      <td>0.000000</td>\n",
        "    </tr>\n",
        "    <tr>\n",
        "      <th>0%</th>\n",
        "      <td>0.000000</td>\n",
        "    </tr>\n",
        "    <tr>\n",
        "      <th>10%</th>\n",
        "      <td>0.000000</td>\n",
        "    </tr>\n",
        "    <tr>\n",
        "      <th>20%</th>\n",
        "      <td>0.000000</td>\n",
        "    </tr>\n",
        "    <tr>\n",
        "      <th>30.0%</th>\n",
        "      <td>0.000000</td>\n",
        "    </tr>\n",
        "    <tr>\n",
        "      <th>40%</th>\n",
        "      <td>0.000000</td>\n",
        "    </tr>\n",
        "    <tr>\n",
        "      <th>50%</th>\n",
        "      <td>18.955981</td>\n",
        "    </tr>\n",
        "    <tr>\n",
        "      <th>60.0%</th>\n",
        "      <td>141.199136</td>\n",
        "    </tr>\n",
        "    <tr>\n",
        "      <th>70%</th>\n",
        "      <td>792.396026</td>\n",
        "    </tr>\n",
        "    <tr>\n",
        "      <th>80%</th>\n",
        "      <td>13777.182834</td>\n",
        "    </tr>\n",
        "    <tr>\n",
        "      <th>90%</th>\n",
        "      <td>1041231.737150</td>\n",
        "    </tr>\n",
        "    <tr>\n",
        "      <th>max</th>\n",
        "      <td>5388371.870015</td>\n",
        "    </tr>\n",
        "  </tbody>\n",
        "</table>\n",
        "</div>"
       ],
       "metadata": {},
       "output_type": "pyout",
       "prompt_number": 421,
       "text": [
        "        miles_per_day\n",
        "count    44486.000000\n",
        "mean    226390.723591\n",
        "std     598090.978798\n",
        "min          0.000000\n",
        "0%           0.000000\n",
        "10%          0.000000\n",
        "20%          0.000000\n",
        "30.0%        0.000000\n",
        "40%          0.000000\n",
        "50%         18.955981\n",
        "60.0%      141.199136\n",
        "70%        792.396026\n",
        "80%      13777.182834\n",
        "90%    1041231.737150\n",
        "max    5388371.870015"
       ]
      }
     ],
     "prompt_number": 421
    },
    {
     "cell_type": "markdown",
     "metadata": {},
     "source": [
      "_Note: Interarrival times (timediffs.csv) was initially calculated in `analysis/interarrivals.py`_"
     ]
    },
    {
     "cell_type": "code",
     "collapsed": false,
     "input": [
      "# Interarrival times\n",
      "interarrivals = pd.read_csv(os.path.join(data_dir, 'made/timediffs.csv'))\n",
      "interarrivals.head()"
     ],
     "language": "python",
     "metadata": {},
     "outputs": [
      {
       "html": [
        "<div style=\"max-height:1000px;max-width:1500px;overflow:auto;\">\n",
        "<table border=\"1\" class=\"dataframe\">\n",
        "  <thead>\n",
        "    <tr style=\"text-align: right;\">\n",
        "      <th></th>\n",
        "      <th>Unnamed: 0</th>\n",
        "      <th>cluster_id</th>\n",
        "      <th>ad_id</th>\n",
        "      <th>diffs</th>\n",
        "    </tr>\n",
        "  </thead>\n",
        "  <tbody>\n",
        "    <tr>\n",
        "      <th>0</th>\n",
        "      <td>13</td>\n",
        "      <td>cluster:1000001</td>\n",
        "      <td>utopiaguide:196262</td>\n",
        "      <td>NaN</td>\n",
        "    </tr>\n",
        "    <tr>\n",
        "      <th>1</th>\n",
        "      <td>14</td>\n",
        "      <td>cluster:1000001</td>\n",
        "      <td>massagetroll:661814</td>\n",
        "      <td>432.805556</td>\n",
        "    </tr>\n",
        "    <tr>\n",
        "      <th>2</th>\n",
        "      <td>15</td>\n",
        "      <td>cluster:1000001</td>\n",
        "      <td>massagetroll:661667</td>\n",
        "      <td>4.031250</td>\n",
        "    </tr>\n",
        "    <tr>\n",
        "      <th>3</th>\n",
        "      <td>16</td>\n",
        "      <td>cluster:1000001</td>\n",
        "      <td>massagetroll:660927</td>\n",
        "      <td>20.788194</td>\n",
        "    </tr>\n",
        "    <tr>\n",
        "      <th>4</th>\n",
        "      <td>17</td>\n",
        "      <td>cluster:1000001</td>\n",
        "      <td>massagetroll:281815</td>\n",
        "      <td>198.220139</td>\n",
        "    </tr>\n",
        "  </tbody>\n",
        "</table>\n",
        "</div>"
       ],
       "metadata": {},
       "output_type": "pyout",
       "prompt_number": 414,
       "text": [
        "   Unnamed: 0       cluster_id                ad_id       diffs\n",
        "0          13  cluster:1000001   utopiaguide:196262         NaN\n",
        "1          14  cluster:1000001  massagetroll:661814  432.805556\n",
        "2          15  cluster:1000001  massagetroll:661667    4.031250\n",
        "3          16  cluster:1000001  massagetroll:660927   20.788194\n",
        "4          17  cluster:1000001  massagetroll:281815  198.220139"
       ]
      }
     ],
     "prompt_number": 414
    },
    {
     "cell_type": "code",
     "collapsed": false,
     "input": [
      "interarrival_providers = interarrivals.groupby('cluster_id').diffs.mean()"
     ],
     "language": "python",
     "metadata": {},
     "outputs": [],
     "prompt_number": 415
    },
    {
     "cell_type": "code",
     "collapsed": false,
     "input": [
      "interarrival_providers.reset_index().describe(percentiles=np.arange(0, 1, .1))"
     ],
     "language": "python",
     "metadata": {},
     "outputs": [
      {
       "html": [
        "<div style=\"max-height:1000px;max-width:1500px;overflow:auto;\">\n",
        "<table border=\"1\" class=\"dataframe\">\n",
        "  <thead>\n",
        "    <tr style=\"text-align: right;\">\n",
        "      <th></th>\n",
        "      <th>diffs</th>\n",
        "    </tr>\n",
        "  </thead>\n",
        "  <tbody>\n",
        "    <tr>\n",
        "      <th>count</th>\n",
        "      <td>231644.000000</td>\n",
        "    </tr>\n",
        "    <tr>\n",
        "      <th>mean</th>\n",
        "      <td>40.514215</td>\n",
        "    </tr>\n",
        "    <tr>\n",
        "      <th>std</th>\n",
        "      <td>37.908598</td>\n",
        "    </tr>\n",
        "    <tr>\n",
        "      <th>min</th>\n",
        "      <td>0.000000</td>\n",
        "    </tr>\n",
        "    <tr>\n",
        "      <th>0%</th>\n",
        "      <td>0.000000</td>\n",
        "    </tr>\n",
        "    <tr>\n",
        "      <th>10%</th>\n",
        "      <td>5.136285</td>\n",
        "    </tr>\n",
        "    <tr>\n",
        "      <th>20%</th>\n",
        "      <td>9.736814</td>\n",
        "    </tr>\n",
        "    <tr>\n",
        "      <th>30.0%</th>\n",
        "      <td>15.333333</td>\n",
        "    </tr>\n",
        "    <tr>\n",
        "      <th>40%</th>\n",
        "      <td>21.800000</td>\n",
        "    </tr>\n",
        "    <tr>\n",
        "      <th>50%</th>\n",
        "      <td>29.620052</td>\n",
        "    </tr>\n",
        "    <tr>\n",
        "      <th>60.0%</th>\n",
        "      <td>38.985722</td>\n",
        "    </tr>\n",
        "    <tr>\n",
        "      <th>70%</th>\n",
        "      <td>50.857143</td>\n",
        "    </tr>\n",
        "    <tr>\n",
        "      <th>80%</th>\n",
        "      <td>65.379246</td>\n",
        "    </tr>\n",
        "    <tr>\n",
        "      <th>90%</th>\n",
        "      <td>87.216533</td>\n",
        "    </tr>\n",
        "    <tr>\n",
        "      <th>max</th>\n",
        "      <td>428.071944</td>\n",
        "    </tr>\n",
        "  </tbody>\n",
        "</table>\n",
        "</div>"
       ],
       "metadata": {},
       "output_type": "pyout",
       "prompt_number": 416,
       "text": [
        "               diffs\n",
        "count  231644.000000\n",
        "mean       40.514215\n",
        "std        37.908598\n",
        "min         0.000000\n",
        "0%          0.000000\n",
        "10%         5.136285\n",
        "20%         9.736814\n",
        "30.0%      15.333333\n",
        "40%        21.800000\n",
        "50%        29.620052\n",
        "60.0%      38.985722\n",
        "70%        50.857143\n",
        "80%        65.379246\n",
        "90%        87.216533\n",
        "max       428.071944"
       ]
      }
     ],
     "prompt_number": 416
    },
    {
     "cell_type": "code",
     "collapsed": false,
     "input": [
      "price_stds = pd.read_csv(os.path.join(data_dir, 'made/intraprovider_price_std.csv'))"
     ],
     "language": "python",
     "metadata": {},
     "outputs": [],
     "prompt_number": 417
    },
    {
     "cell_type": "code",
     "collapsed": false,
     "input": [
      "\n",
      "table = pd.DataFrame(pd.concat([price_stds.describe(percentiles=np.arange(0, 1, .1)),\n",
      "interarrival_providers.reset_index().describe(percentiles=np.arange(0, 1, .1)),\n",
      "implied_speeds.describe(percentiles=np.arange(0, 1, .1))], axis='1'))"
     ],
     "language": "python",
     "metadata": {},
     "outputs": [],
     "prompt_number": 424
    },
    {
     "cell_type": "code",
     "collapsed": false,
     "input": [
      "table.loc['count', :] = table.loc['count', :].astype(int)"
     ],
     "language": "python",
     "metadata": {},
     "outputs": [],
     "prompt_number": 425
    },
    {
     "cell_type": "code",
     "collapsed": false,
     "input": [
      "table"
     ],
     "language": "python",
     "metadata": {},
     "outputs": [
      {
       "html": [
        "<div style=\"max-height:1000px;max-width:1500px;overflow:auto;\">\n",
        "<table border=\"1\" class=\"dataframe\">\n",
        "  <thead>\n",
        "    <tr style=\"text-align: right;\">\n",
        "      <th></th>\n",
        "      <th>price_per_hour</th>\n",
        "      <th>diffs</th>\n",
        "      <th>miles_per_day</th>\n",
        "    </tr>\n",
        "  </thead>\n",
        "  <tbody>\n",
        "    <tr>\n",
        "      <th>count</th>\n",
        "      <td>2316.000000</td>\n",
        "      <td>231644.000000</td>\n",
        "      <td>43988.000000</td>\n",
        "    </tr>\n",
        "    <tr>\n",
        "      <th>mean</th>\n",
        "      <td>24.712950</td>\n",
        "      <td>40.514215</td>\n",
        "      <td>227774.358607</td>\n",
        "    </tr>\n",
        "    <tr>\n",
        "      <th>std</th>\n",
        "      <td>33.818573</td>\n",
        "      <td>37.908598</td>\n",
        "      <td>600195.857826</td>\n",
        "    </tr>\n",
        "    <tr>\n",
        "      <th>min</th>\n",
        "      <td>0.000000</td>\n",
        "      <td>0.000000</td>\n",
        "      <td>0.000000</td>\n",
        "    </tr>\n",
        "    <tr>\n",
        "      <th>0%</th>\n",
        "      <td>0.000000</td>\n",
        "      <td>0.000000</td>\n",
        "      <td>0.000000</td>\n",
        "    </tr>\n",
        "    <tr>\n",
        "      <th>10%</th>\n",
        "      <td>0.000000</td>\n",
        "      <td>5.136285</td>\n",
        "      <td>0.000000</td>\n",
        "    </tr>\n",
        "    <tr>\n",
        "      <th>20%</th>\n",
        "      <td>0.000000</td>\n",
        "      <td>9.736814</td>\n",
        "      <td>0.000000</td>\n",
        "    </tr>\n",
        "    <tr>\n",
        "      <th>30.0%</th>\n",
        "      <td>0.000000</td>\n",
        "      <td>15.333333</td>\n",
        "      <td>0.000000</td>\n",
        "    </tr>\n",
        "    <tr>\n",
        "      <th>40%</th>\n",
        "      <td>8.027730</td>\n",
        "      <td>21.800000</td>\n",
        "      <td>0.000000</td>\n",
        "    </tr>\n",
        "    <tr>\n",
        "      <th>50%</th>\n",
        "      <td>15.118579</td>\n",
        "      <td>29.620052</td>\n",
        "      <td>19.859334</td>\n",
        "    </tr>\n",
        "    <tr>\n",
        "      <th>60.0%</th>\n",
        "      <td>21.380899</td>\n",
        "      <td>38.985722</td>\n",
        "      <td>145.778930</td>\n",
        "    </tr>\n",
        "    <tr>\n",
        "      <th>70%</th>\n",
        "      <td>29.266235</td>\n",
        "      <td>50.857143</td>\n",
        "      <td>813.222502</td>\n",
        "    </tr>\n",
        "    <tr>\n",
        "      <th>80%</th>\n",
        "      <td>42.038943</td>\n",
        "      <td>65.379246</td>\n",
        "      <td>14165.196707</td>\n",
        "    </tr>\n",
        "    <tr>\n",
        "      <th>90%</th>\n",
        "      <td>62.316192</td>\n",
        "      <td>87.216533</td>\n",
        "      <td>1063121.547019</td>\n",
        "    </tr>\n",
        "    <tr>\n",
        "      <th>max</th>\n",
        "      <td>413.118224</td>\n",
        "      <td>428.071944</td>\n",
        "      <td>5388371.870015</td>\n",
        "    </tr>\n",
        "  </tbody>\n",
        "</table>\n",
        "</div>"
       ],
       "metadata": {},
       "output_type": "pyout",
       "prompt_number": 426,
       "text": [
        "       price_per_hour          diffs   miles_per_day\n",
        "count     2316.000000  231644.000000    43988.000000\n",
        "mean        24.712950      40.514215   227774.358607\n",
        "std         33.818573      37.908598   600195.857826\n",
        "min          0.000000       0.000000        0.000000\n",
        "0%           0.000000       0.000000        0.000000\n",
        "10%          0.000000       5.136285        0.000000\n",
        "20%          0.000000       9.736814        0.000000\n",
        "30.0%        0.000000      15.333333        0.000000\n",
        "40%          8.027730      21.800000        0.000000\n",
        "50%         15.118579      29.620052       19.859334\n",
        "60.0%       21.380899      38.985722      145.778930\n",
        "70%         29.266235      50.857143      813.222502\n",
        "80%         42.038943      65.379246    14165.196707\n",
        "90%         62.316192      87.216533  1063121.547019\n",
        "max        413.118224     428.071944  5388371.870015"
       ]
      }
     ],
     "prompt_number": 426
    },
    {
     "cell_type": "code",
     "collapsed": false,
     "input": [
      "table.to_csv(os.path.join(root_dir, 'results/provider_summary_table.csv'))"
     ],
     "language": "python",
     "metadata": {},
     "outputs": [],
     "prompt_number": 301
    }
   ],
   "metadata": {}
  }
 ]
}