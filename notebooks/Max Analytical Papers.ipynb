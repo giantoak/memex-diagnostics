{
 "metadata": {
  "name": ""
 },
 "nbformat": 3,
 "nbformat_minor": 0,
 "worksheets": [
  {
   "cells": [
    {
     "cell_type": "markdown",
     "metadata": {},
     "source": [
      "#Memex Diagnostic Tasks\n",
      "\n",
      "* **List of boards that we scraped**\n",
      "* **Plots of extractions by date and board**\n",
      "* Summary of different boards\n",
      "* Articulate the variables/categories pulled out\n",
      "* **What is the pricing like on each board?**"
     ]
    },
    {
     "cell_type": "code",
     "collapsed": false,
     "input": [
      "from __future__ import print_function\n",
      "import pandas as pd\n",
      "import numpy as np\n",
      "import matplotlib\n",
      "from matplotlib import pylab\n",
      "import seaborn\n",
      "import os\n",
      "from scipy.stats import ks_2samp\n",
      "\n",
      "root_dir = '/mnt/memex-diagnostics'\n",
      "data_dir = os.path.join(root_dir, 'data/dump4')\n",
      "plot_dir = os.path.join(root_dir, 'plots/multiple-rates')"
     ],
     "language": "python",
     "metadata": {},
     "outputs": [],
     "prompt_number": 1
    },
    {
     "cell_type": "code",
     "collapsed": false,
     "input": [
      "links_df = pd.read_csv(os.path.join(data_dir, 'ids_to_urls.tsv'), sep='\\t', header=None, names=['ad', 'url'])\n",
      "print(links_df.shape[0])\n",
      "links_df.head()"
     ],
     "language": "python",
     "metadata": {},
     "outputs": [
      {
       "output_type": "stream",
       "stream": "stdout",
       "text": [
        "26351804\n"
       ]
      },
      {
       "html": [
        "<div style=\"max-height:1000px;max-width:1500px;overflow:auto;\">\n",
        "<table border=\"1\" class=\"dataframe\">\n",
        "  <thead>\n",
        "    <tr style=\"text-align: right;\">\n",
        "      <th></th>\n",
        "      <th>ad</th>\n",
        "      <th>url</th>\n",
        "    </tr>\n",
        "  </thead>\n",
        "  <tbody>\n",
        "    <tr>\n",
        "      <th>0</th>\n",
        "      <td>adultsearch:1</td>\n",
        "      <td>http://adultsearch.com/georgia/atlanta//female...</td>\n",
        "    </tr>\n",
        "    <tr>\n",
        "      <th>1</th>\n",
        "      <td>adultsearch:10</td>\n",
        "      <td>http://adultsearch.com/georgia/atlanta//female...</td>\n",
        "    </tr>\n",
        "    <tr>\n",
        "      <th>2</th>\n",
        "      <td>adultsearch:100</td>\n",
        "      <td>http://adultsearch.com/georgia/atlanta//female...</td>\n",
        "    </tr>\n",
        "    <tr>\n",
        "      <th>3</th>\n",
        "      <td>adultsearch:1000</td>\n",
        "      <td>http://adultsearch.com/texas/dallas//female-es...</td>\n",
        "    </tr>\n",
        "    <tr>\n",
        "      <th>4</th>\n",
        "      <td>adultsearch:10000</td>\n",
        "      <td>http://adultsearch.com/new-jersey/jersey-city/...</td>\n",
        "    </tr>\n",
        "  </tbody>\n",
        "</table>\n",
        "</div>"
       ],
       "metadata": {},
       "output_type": "pyout",
       "prompt_number": 2,
       "text": [
        "                  ad                                                url\n",
        "0      adultsearch:1  http://adultsearch.com/georgia/atlanta//female...\n",
        "1     adultsearch:10  http://adultsearch.com/georgia/atlanta//female...\n",
        "2    adultsearch:100  http://adultsearch.com/georgia/atlanta//female...\n",
        "3   adultsearch:1000  http://adultsearch.com/texas/dallas//female-es...\n",
        "4  adultsearch:10000  http://adultsearch.com/new-jersey/jersey-city/..."
       ]
      }
     ],
     "prompt_number": 2
    },
    {
     "cell_type": "code",
     "collapsed": false,
     "input": [
      "import tldextract"
     ],
     "language": "python",
     "metadata": {},
     "outputs": [],
     "prompt_number": 9
    },
    {
     "cell_type": "code",
     "collapsed": false,
     "input": [
      "tldextract.extract('http://dc.backpage.com').domain"
     ],
     "language": "python",
     "metadata": {},
     "outputs": [
      {
       "metadata": {},
       "output_type": "pyout",
       "prompt_number": 11,
       "text": [
        "'backpage'"
       ]
      }
     ],
     "prompt_number": 11
    },
    {
     "cell_type": "code",
     "collapsed": false,
     "input": [
      "links_df['domain'] = links_df.url.apply(lambda x: tldextract.extract(x).domain)"
     ],
     "language": "python",
     "metadata": {},
     "outputs": [],
     "prompt_number": 14
    },
    {
     "cell_type": "code",
     "collapsed": false,
     "input": [
      "links_df.domain.value_counts()"
     ],
     "language": "python",
     "metadata": {},
     "outputs": [
      {
       "metadata": {},
       "output_type": "pyout",
       "prompt_number": 15,
       "text": [
        "backpage            10240406\n",
        "escortphonelist      3153203\n",
        "escortsincollege     2914419\n",
        "craigslist           2286449\n",
        "cityxguide           1613238\n",
        "escortads            1306039\n",
        "myproviderguide      1237942\n",
        "massagetroll         1082960\n",
        "escortsinthe          985486\n",
        "cityvibe              431213\n",
        "rubads                221574\n",
        "utopiaguide           218294\n",
        "escortsin             198830\n",
        "sipsap                190408\n",
        "myredbook              83677\n",
        "usasexguide            78329\n",
        "classivox              54573\n",
        "adultsearch            52854\n",
        "USASexGuide             1888\n",
        "istresearch               20\n",
        "socialsex                  1\n",
        "amazonaws                  1\n",
        "dtype: int64"
       ]
      }
     ],
     "prompt_number": 15
    },
    {
     "cell_type": "code",
     "collapsed": false,
     "input": [
      "provider_dates = pd.read_csv(os.path.join(data_dir, 'doc-provider-timestamp.tsv'), sep='\\t', header=None,\n",
      "                             names=['ad', 'cluster', 'date'], usecols=['ad', 'date'])"
     ],
     "language": "python",
     "metadata": {},
     "outputs": [],
     "prompt_number": 17
    },
    {
     "cell_type": "code",
     "collapsed": false,
     "input": [
      "links_df.drop('url', axis=1, inplace=True)"
     ],
     "language": "python",
     "metadata": {},
     "outputs": [],
     "prompt_number": 21
    },
    {
     "cell_type": "code",
     "collapsed": false,
     "input": [
      "merged = pd.merge(links_df, provider_dates, on='ad')\n",
      "print(merged.shape)\n",
      "merged.head()"
     ],
     "language": "python",
     "metadata": {},
     "outputs": [
      {
       "output_type": "stream",
       "stream": "stdout",
       "text": [
        "(26351804, 3)\n"
       ]
      },
      {
       "html": [
        "<div style=\"max-height:1000px;max-width:1500px;overflow:auto;\">\n",
        "<table border=\"1\" class=\"dataframe\">\n",
        "  <thead>\n",
        "    <tr style=\"text-align: right;\">\n",
        "      <th></th>\n",
        "      <th>ad</th>\n",
        "      <th>domain</th>\n",
        "      <th>date</th>\n",
        "    </tr>\n",
        "  </thead>\n",
        "  <tbody>\n",
        "    <tr>\n",
        "      <th>0</th>\n",
        "      <td>adultsearch:1</td>\n",
        "      <td>adultsearch</td>\n",
        "      <td>2013-10-22 00:00:00</td>\n",
        "    </tr>\n",
        "    <tr>\n",
        "      <th>1</th>\n",
        "      <td>adultsearch:10</td>\n",
        "      <td>adultsearch</td>\n",
        "      <td>2014-06-01 19:30:00</td>\n",
        "    </tr>\n",
        "    <tr>\n",
        "      <th>2</th>\n",
        "      <td>adultsearch:100</td>\n",
        "      <td>adultsearch</td>\n",
        "      <td>2014-03-02 05:18:00</td>\n",
        "    </tr>\n",
        "    <tr>\n",
        "      <th>3</th>\n",
        "      <td>adultsearch:1000</td>\n",
        "      <td>adultsearch</td>\n",
        "      <td>2014-05-30 13:33:00</td>\n",
        "    </tr>\n",
        "    <tr>\n",
        "      <th>4</th>\n",
        "      <td>adultsearch:10000</td>\n",
        "      <td>adultsearch</td>\n",
        "      <td>2014-03-07 23:25:00</td>\n",
        "    </tr>\n",
        "  </tbody>\n",
        "</table>\n",
        "</div>"
       ],
       "metadata": {},
       "output_type": "pyout",
       "prompt_number": 23,
       "text": [
        "                  ad       domain                 date\n",
        "0      adultsearch:1  adultsearch  2013-10-22 00:00:00\n",
        "1     adultsearch:10  adultsearch  2014-06-01 19:30:00\n",
        "2    adultsearch:100  adultsearch  2014-03-02 05:18:00\n",
        "3   adultsearch:1000  adultsearch  2014-05-30 13:33:00\n",
        "4  adultsearch:10000  adultsearch  2014-03-07 23:25:00"
       ]
      }
     ],
     "prompt_number": 23
    },
    {
     "cell_type": "code",
     "collapsed": false,
     "input": [
      "merged = merged[merged.date.str.len() > 10]"
     ],
     "language": "python",
     "metadata": {},
     "outputs": [],
     "prompt_number": 36
    },
    {
     "cell_type": "code",
     "collapsed": false,
     "input": [
      "merged['date'] = pd.to_datetime(merged['date'], coerce=True)"
     ],
     "language": "python",
     "metadata": {},
     "outputs": [],
     "prompt_number": 49
    },
    {
     "cell_type": "code",
     "collapsed": false,
     "input": [
      "last_day = max(merged['date'])"
     ],
     "language": "python",
     "metadata": {},
     "outputs": [],
     "prompt_number": 118
    },
    {
     "cell_type": "code",
     "collapsed": false,
     "input": [
      "import numpy as np"
     ],
     "language": "python",
     "metadata": {},
     "outputs": [],
     "prompt_number": 124
    },
    {
     "cell_type": "code",
     "collapsed": false,
     "input": [
      "merged['quarters_ago'] = ((last_day - merged['date'])/np.timedelta64(3, 'M')).apply(int)"
     ],
     "language": "python",
     "metadata": {},
     "outputs": [],
     "prompt_number": 179
    },
    {
     "cell_type": "code",
     "collapsed": false,
     "input": [
      "domain_week_counts = merged.groupby(['domain', 'quarters_ago']).count()"
     ],
     "language": "python",
     "metadata": {},
     "outputs": [],
     "prompt_number": 187
    },
    {
     "cell_type": "code",
     "collapsed": false,
     "input": [
      "domain_week_counts.reset_index(inplace=True)"
     ],
     "language": "python",
     "metadata": {},
     "outputs": [],
     "prompt_number": 188
    },
    {
     "cell_type": "code",
     "collapsed": false,
     "input": [
      "domain_week_counts = domain_week_counts[domain_week_counts.quarters_ago < 20]"
     ],
     "language": "python",
     "metadata": {},
     "outputs": [],
     "prompt_number": 191
    },
    {
     "cell_type": "code",
     "collapsed": false,
     "input": [
      "last_day"
     ],
     "language": "python",
     "metadata": {},
     "outputs": [
      {
       "metadata": {},
       "output_type": "pyout",
       "prompt_number": 196,
       "text": [
        "Timestamp('2015-12-31 23:59:00')"
       ]
      }
     ],
     "prompt_number": 196
    },
    {
     "cell_type": "code",
     "collapsed": false,
     "input": [
      "import seaborn as sns\n",
      "from matplotlib import pyplot as plt\n",
      "sns.factorplot('quarters_ago', 'ad', 'domain', domain_week_counts, kind='point')\n",
      "plt.title('Counts by board by quarters since {}-{}'.format(last_day.year, last_day.month))\n",
      "plt.savefig(os.path.join(plot_dir, 'boards', 'counts_by_quarters_since"
     ],
     "language": "python",
     "metadata": {},
     "outputs": [
      {
       "metadata": {},
       "output_type": "pyout",
       "prompt_number": 197,
       "text": [
        "<matplotlib.text.Text at 0x7f5c51099190>"
       ]
      },
      {
       "metadata": {},
       "output_type": "display_data",
       "png": "[encoded data removed]",
       "text": [
        "<matplotlib.figure.Figure at 0x7f5c51100550>"
       ]
      }
     ],
     "prompt_number": 197
    }
   ],
   "metadata": {}
  }
 ]
}