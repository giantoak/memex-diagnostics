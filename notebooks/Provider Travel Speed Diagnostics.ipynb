{
 "metadata": {
  "name": ""
 },
 "nbformat": 3,
 "nbformat_minor": 0,
 "worksheets": [
  {
   "cells": [
    {
     "cell_type": "markdown",
     "metadata": {},
     "source": [
      "Travel Speed Diagnostics\n",
      "=================================\n",
      "\n",
      "We're interested in the implied travel speed of providers. By looking at the time between consecutive ad postings, as well as the distance between the locations of either posting, we can calculate the \"speed\" that it would have taken that provider to travel from place to place."
     ]
    },
    {
     "cell_type": "code",
     "collapsed": false,
     "input": [
      "%matplotlib inline\n",
      "\n",
      "import pandas as pd\n",
      "import numpy as np\n",
      "import folium\n",
      "import seaborn\n",
      "from matplotlib import pyplot as plt\n",
      "from IPython.display import HTML\n",
      "import json\n",
      "import os\n",
      "\n",
      "root_dir = '/mnt/memex-diagnostics'\n",
      "data_dir = os.path.join(root_dir, 'data/dump4')\n",
      "plot_dir = os.path.join(root_dir, 'plots/dump4')\n",
      "\n",
      "# Boilerplate for plotting maps\n",
      "def inline_map(map):\n",
      "    \"\"\"\n",
      "    Embeds the HTML source of the map directly into the IPython notebook.\n",
      "    \n",
      "    This method will not work if the map depends on any files (json data). Also this uses\n",
      "    the HTML5 srcdoc attribute, which may not be supported in all browsers.\n",
      "    \"\"\"\n",
      "    map._build_map()\n",
      "    return HTML('<iframe srcdoc=\"{srcdoc}\" style=\"width: 100%; height: 510px; border: none\"></iframe>'.format(srcdoc=map.HTML.replace('\"', '&quot;')))\n",
      "\n",
      "def embed_map(map, path=\"static/map.html\"):\n",
      "    \"\"\"\n",
      "    Embeds a linked iframe to the map into the IPython notebook.\n",
      "    \n",
      "    Note: this method will not capture the source of the map into the notebook.\n",
      "    This method should work for all maps (as long as they use relative urls).\n",
      "    \"\"\"\n",
      "    map.create_map(path=path)\n",
      "    return HTML('<iframe src=\"files/{path}\" style=\"width: 100%; height: 510px; border: none\"></iframe>'.format(path=path))"
     ],
     "language": "python",
     "metadata": {},
     "outputs": [],
     "prompt_number": 57
    },
    {
     "cell_type": "markdown",
     "metadata": {},
     "source": [
      "## Data Prep\n",
      "\n",
      "To calculate the implied travel speed, we need the centroid of every ad location."
     ]
    },
    {
     "cell_type": "code",
     "collapsed": false,
     "input": [
      "ad_centroids = pd.read_csv(os.path.join(data_dir, 'made/ad_centroids.csv'),\n",
      "                           header=None, names=['ad_id', 'lat', 'lon'])\n",
      "\n",
      "ad_centroids.head()"
     ],
     "language": "python",
     "metadata": {},
     "outputs": [
      {
       "html": [
        "<div style=\"max-height:1000px;max-width:1500px;overflow:auto;\">\n",
        "<table border=\"1\" class=\"dataframe\">\n",
        "  <thead>\n",
        "    <tr style=\"text-align: right;\">\n",
        "      <th></th>\n",
        "      <th>ad_id</th>\n",
        "      <th>lat</th>\n",
        "      <th>lon</th>\n",
        "    </tr>\n",
        "  </thead>\n",
        "  <tbody>\n",
        "    <tr>\n",
        "      <th>0</th>\n",
        "      <td>    adultsearch:10</td>\n",
        "      <td> 33.347387</td>\n",
        "      <td> -84.350081</td>\n",
        "    </tr>\n",
        "    <tr>\n",
        "      <th>1</th>\n",
        "      <td> adultsearch:10021</td>\n",
        "      <td> 40.897703</td>\n",
        "      <td> -73.902601</td>\n",
        "    </tr>\n",
        "    <tr>\n",
        "      <th>2</th>\n",
        "      <td> adultsearch:10032</td>\n",
        "      <td> 39.391327</td>\n",
        "      <td> -87.343704</td>\n",
        "    </tr>\n",
        "    <tr>\n",
        "      <th>3</th>\n",
        "      <td> adultsearch:10039</td>\n",
        "      <td> 45.597927</td>\n",
        "      <td>-122.478497</td>\n",
        "    </tr>\n",
        "    <tr>\n",
        "      <th>4</th>\n",
        "      <td> adultsearch:10040</td>\n",
        "      <td> 28.125494</td>\n",
        "      <td> -82.463831</td>\n",
        "    </tr>\n",
        "  </tbody>\n",
        "</table>\n",
        "</div>"
       ],
       "metadata": {},
       "output_type": "pyout",
       "prompt_number": 2,
       "text": [
        "               ad_id        lat         lon\n",
        "0     adultsearch:10  33.347387  -84.350081\n",
        "1  adultsearch:10021  40.897703  -73.902601\n",
        "2  adultsearch:10032  39.391327  -87.343704\n",
        "3  adultsearch:10039  45.597927 -122.478497\n",
        "4  adultsearch:10040  28.125494  -82.463831"
       ]
      }
     ],
     "prompt_number": 2
    },
    {
     "cell_type": "markdown",
     "metadata": {},
     "source": [
      "And the interarrival time between ads (`diffs`):"
     ]
    },
    {
     "cell_type": "code",
     "collapsed": false,
     "input": [
      "MIN_CLUSTER_SIZE=5\n",
      "\n",
      "df = pd.read_csv(os.path.join(data_dir, 'made/timediffs.csv'))\n",
      "df.head()"
     ],
     "language": "python",
     "metadata": {},
     "outputs": [
      {
       "html": [
        "<div style=\"max-height:1000px;max-width:1500px;overflow:auto;\">\n",
        "<table border=\"1\" class=\"dataframe\">\n",
        "  <thead>\n",
        "    <tr style=\"text-align: right;\">\n",
        "      <th></th>\n",
        "      <th>cluster_id</th>\n",
        "      <th>ad_id</th>\n",
        "      <th>timestamp</th>\n",
        "      <th>diffs</th>\n",
        "    </tr>\n",
        "  </thead>\n",
        "  <tbody>\n",
        "    <tr>\n",
        "      <th>0</th>\n",
        "      <td> cluster:1000001</td>\n",
        "      <td>  utopiaguide:196262</td>\n",
        "      <td> 2011-12-14 20:30:00</td>\n",
        "      <td>        NaN</td>\n",
        "    </tr>\n",
        "    <tr>\n",
        "      <th>1</th>\n",
        "      <td> cluster:1000001</td>\n",
        "      <td> massagetroll:661814</td>\n",
        "      <td> 2013-02-19 15:50:00</td>\n",
        "      <td> 432.805556</td>\n",
        "    </tr>\n",
        "    <tr>\n",
        "      <th>2</th>\n",
        "      <td> cluster:1000001</td>\n",
        "      <td> massagetroll:661667</td>\n",
        "      <td> 2013-02-23 16:35:00</td>\n",
        "      <td>   4.031250</td>\n",
        "    </tr>\n",
        "    <tr>\n",
        "      <th>3</th>\n",
        "      <td> cluster:1000001</td>\n",
        "      <td> massagetroll:660927</td>\n",
        "      <td> 2013-03-16 11:30:00</td>\n",
        "      <td>  20.788194</td>\n",
        "    </tr>\n",
        "    <tr>\n",
        "      <th>4</th>\n",
        "      <td> cluster:1000001</td>\n",
        "      <td> massagetroll:281815</td>\n",
        "      <td> 2013-09-30 16:47:00</td>\n",
        "      <td> 198.220139</td>\n",
        "    </tr>\n",
        "  </tbody>\n",
        "</table>\n",
        "</div>"
       ],
       "metadata": {},
       "output_type": "pyout",
       "prompt_number": 3,
       "text": [
        "        cluster_id                ad_id            timestamp       diffs\n",
        "0  cluster:1000001   utopiaguide:196262  2011-12-14 20:30:00         NaN\n",
        "1  cluster:1000001  massagetroll:661814  2013-02-19 15:50:00  432.805556\n",
        "2  cluster:1000001  massagetroll:661667  2013-02-23 16:35:00    4.031250\n",
        "3  cluster:1000001  massagetroll:660927  2013-03-16 11:30:00   20.788194\n",
        "4  cluster:1000001  massagetroll:281815  2013-09-30 16:47:00  198.220139"
       ]
      }
     ],
     "prompt_number": 3
    },
    {
     "cell_type": "code",
     "collapsed": false,
     "input": [
      "df_merge = pd.merge(df, ad_centroids, how='inner', on='ad_id')"
     ],
     "language": "python",
     "metadata": {},
     "outputs": [],
     "prompt_number": 4
    },
    {
     "cell_type": "code",
     "collapsed": true,
     "input": [
      "# Group them into clusters, filter out clusters with low ad counts\n",
      "clusters = df_merge.groupby('cluster_id')\n",
      "df_merge = clusters.filter(lambda x: len(x) > MIN_CLUSTER_SIZE)\n",
      "df_merge.head()"
     ],
     "language": "python",
     "metadata": {},
     "outputs": [
      {
       "html": [
        "<div style=\"max-height:1000px;max-width:1500px;overflow:auto;\">\n",
        "<table border=\"1\" class=\"dataframe\">\n",
        "  <thead>\n",
        "    <tr style=\"text-align: right;\">\n",
        "      <th></th>\n",
        "      <th>cluster_id</th>\n",
        "      <th>ad_id</th>\n",
        "      <th>timestamp</th>\n",
        "      <th>diffs</th>\n",
        "      <th>lat</th>\n",
        "      <th>lon</th>\n",
        "    </tr>\n",
        "  </thead>\n",
        "  <tbody>\n",
        "    <tr>\n",
        "      <th>6 </th>\n",
        "      <td> cluster:10000050</td>\n",
        "      <td> backpage:3318382</td>\n",
        "      <td> 2014-03-23 16:04:00</td>\n",
        "      <td>      NaN</td>\n",
        "      <td> 42.518355</td>\n",
        "      <td>-71.022301</td>\n",
        "    </tr>\n",
        "    <tr>\n",
        "      <th>7 </th>\n",
        "      <td> cluster:10000050</td>\n",
        "      <td> backpage:4012470</td>\n",
        "      <td> 2014-03-23 16:04:00</td>\n",
        "      <td> 0.000000</td>\n",
        "      <td> 42.518355</td>\n",
        "      <td>-71.022301</td>\n",
        "    </tr>\n",
        "    <tr>\n",
        "      <th>8 </th>\n",
        "      <td> cluster:10000050</td>\n",
        "      <td> backpage:4523345</td>\n",
        "      <td> 2014-03-23 16:04:00</td>\n",
        "      <td> 0.000000</td>\n",
        "      <td> 42.518355</td>\n",
        "      <td>-71.022301</td>\n",
        "    </tr>\n",
        "    <tr>\n",
        "      <th>9 </th>\n",
        "      <td> cluster:10000050</td>\n",
        "      <td> backpage:4770178</td>\n",
        "      <td> 2014-03-29 14:58:00</td>\n",
        "      <td> 5.954167</td>\n",
        "      <td> 42.518355</td>\n",
        "      <td>-71.022301</td>\n",
        "    </tr>\n",
        "    <tr>\n",
        "      <th>10</th>\n",
        "      <td> cluster:10000050</td>\n",
        "      <td> backpage:3375642</td>\n",
        "      <td> 2014-04-01 15:49:00</td>\n",
        "      <td> 3.035417</td>\n",
        "      <td> 42.518355</td>\n",
        "      <td>-71.022301</td>\n",
        "    </tr>\n",
        "  </tbody>\n",
        "</table>\n",
        "</div>"
       ],
       "metadata": {},
       "output_type": "pyout",
       "prompt_number": 5,
       "text": [
        "          cluster_id             ad_id            timestamp     diffs  \\\n",
        "6   cluster:10000050  backpage:3318382  2014-03-23 16:04:00       NaN   \n",
        "7   cluster:10000050  backpage:4012470  2014-03-23 16:04:00  0.000000   \n",
        "8   cluster:10000050  backpage:4523345  2014-03-23 16:04:00  0.000000   \n",
        "9   cluster:10000050  backpage:4770178  2014-03-29 14:58:00  5.954167   \n",
        "10  cluster:10000050  backpage:3375642  2014-04-01 15:49:00  3.035417   \n",
        "\n",
        "          lat        lon  \n",
        "6   42.518355 -71.022301  \n",
        "7   42.518355 -71.022301  \n",
        "8   42.518355 -71.022301  \n",
        "9   42.518355 -71.022301  \n",
        "10  42.518355 -71.022301  "
       ]
      }
     ],
     "prompt_number": 5
    },
    {
     "cell_type": "code",
     "collapsed": false,
     "input": [
      "clusters = df_merge.groupby('cluster_id')\n",
      "print(df_merge.shape, clusters.ngroups)"
     ],
     "language": "python",
     "metadata": {},
     "outputs": [
      {
       "output_type": "stream",
       "stream": "stdout",
       "text": [
        "((1166008, 6), 44486)\n"
       ]
      }
     ],
     "prompt_number": 6
    },
    {
     "cell_type": "markdown",
     "metadata": {},
     "source": [
      "There are 1.1M ads once we remove ads from providers with less than 5 ads, and 44,486 providers."
     ]
    },
    {
     "cell_type": "markdown",
     "metadata": {},
     "source": [
      "## Validation\n",
      "\n",
      "When we joined the MSA centroids to the interarrival times, did we lose any information?"
     ]
    },
    {
     "cell_type": "code",
     "collapsed": false,
     "input": [
      "ad_centroid_set = set(ad_centroids.ad_id)\n",
      "df_ads_set = set(df.ad_id)"
     ],
     "language": "python",
     "metadata": {},
     "outputs": [],
     "prompt_number": 21
    },
    {
     "cell_type": "code",
     "collapsed": false,
     "input": [
      "# with dump2 it was (217125, 1030998, 6039882)\n",
      "\n",
      "len(ad_centroid_set.intersection(df_ads_set)), len(df_ads_set), len(ad_centroid_set)"
     ],
     "language": "python",
     "metadata": {},
     "outputs": [
      {
       "metadata": {},
       "output_type": "pyout",
       "prompt_number": 22,
       "text": [
        "(1431922, 5920209, 6039883)"
       ]
      }
     ],
     "prompt_number": 22
    },
    {
     "cell_type": "markdown",
     "metadata": {},
     "source": [
      "Yes we did. Out of the 5.9M ads with timestamp extractions, and the 6M ads with location extractions, only 1.4M ads overlapped. I suspect the major reasons for this are:\n",
      "\n",
      "1) Not all ads had clean location extractions, and not all ads with locations were part of a MSA\n",
      "\n",
      "2) The timestamp data had already been filtered to consist of providers with more than MIN_CLUSTER_SIZE ads. The location data hadn't."
     ]
    },
    {
     "cell_type": "markdown",
     "metadata": {},
     "source": [
      "## Computation\n",
      "\n",
      "Compute implied speed of travel from the centroids of the parent MSAs of extracted locations."
     ]
    },
    {
     "cell_type": "code",
     "collapsed": false,
     "input": [
      "# Helper functions for computing travel times\n",
      "\n",
      "from math import radians, cos, sin, asin, sqrt\n",
      "\n",
      "def haversine(lon1, lat1, lon2, lat2):\n",
      "    \"\"\"\n",
      "    Calculate the great circle distance between two points \n",
      "    on the earth (specified in decimal degrees)\n",
      "    \n",
      "    From http://stackoverflow.com/a/4913653/2907617\n",
      "    \"\"\"\n",
      "    # convert decimal degrees to radians \n",
      "    lon1, lat1, lon2, lat2 = map(radians, [lon1, lat1, lon2, lat2])\n",
      "\n",
      "    # haversine formula \n",
      "    dlon = lon2 - lon1 \n",
      "    dlat = lat2 - lat1 \n",
      "    a = sin(dlat/2)**2 + cos(lat1) * cos(lat2) * sin(dlon/2)**2\n",
      "    c = 2 * asin(sqrt(a)) \n",
      "    r = 3956  # Radius of earth in miles. Use 6371 for kilometers\n",
      "    return c * r\n",
      "\n",
      "def travel_time(row):\n",
      "    ''' \n",
      "    distance(two coords)/interarrival_time\n",
      "    \n",
      "    assigns 0 geographical distance to nans.\n",
      "    performs +0.001 smoothing (~2 minutes) on the time differences\n",
      "    \n",
      "    '''\n",
      "    \n",
      "    d = haversine(row.lon_x, row.lat_x,\n",
      "                  row.lon_y, row.lat_y)\n",
      "    \n",
      "    interarrival = row.diffs_x\n",
      "    \n",
      "    if pd.isnull(interarrival):\n",
      "        # If there is no interarrival time and the distance is 0, the distance is 0.\n",
      "        if d == 0 or pd.isnull(d):\n",
      "            return 0\n",
      "        \n",
      "        # If the distance isn't 0, then assume the interarrival time is small\n",
      "        else:\n",
      "            interarrival = 0\n",
      "    \n",
      "    # smoothing\n",
      "    interarrival += 0.001\n",
      "\n",
      "    \n",
      "    return d/interarrival"
     ],
     "language": "python",
     "metadata": {},
     "outputs": [],
     "prompt_number": 7
    },
    {
     "cell_type": "code",
     "collapsed": false,
     "input": [
      "miles_per_day = clusters.apply(lambda x: \n",
      "                                           pd.merge(x, x.shift(), left_index=True, right_index=True)\n",
      "                                           ).apply(travel_time, 1)"
     ],
     "language": "python",
     "metadata": {},
     "outputs": [],
     "prompt_number": 8
    },
    {
     "cell_type": "markdown",
     "metadata": {},
     "source": [
      "##Analysis\n",
      "\n",
      "A single anomolously high implied travel time can indicate that a provider is an organization, so we will look at the max of travel times by provider."
     ]
    },
    {
     "cell_type": "code",
     "collapsed": false,
     "input": [
      "df_merge['miles_per_day'] = miles_per_day\n",
      "clusters = df_merge.groupby('cluster_id')\n",
      "miles_per_day_maxes = clusters.miles_per_day.max()\n",
      "\n",
      "miles_per_day_maxes.describe(percentiles=np.arange(0, 1, .1))"
     ],
     "language": "python",
     "metadata": {},
     "outputs": [
      {
       "metadata": {},
       "output_type": "pyout",
       "prompt_number": 16,
       "text": [
        "count      44486.000000\n",
        "mean      226390.723591\n",
        "std       598090.978798\n",
        "min            0.000000\n",
        "0%             0.000000\n",
        "10%            0.000000\n",
        "20%            0.000000\n",
        "30.0%          0.000000\n",
        "40%            0.000000\n",
        "50%           18.955981\n",
        "60.0%        141.199136\n",
        "70%          792.396026\n",
        "80%        13777.182834\n",
        "90%      1041231.737150\n",
        "max      5388371.870015\n",
        "Name: miles_per_day, dtype: float64"
       ]
      }
     ],
     "prompt_number": 16
    },
    {
     "cell_type": "code",
     "collapsed": false,
     "input": [
      "df_nonzero = clusters.filter(lambda x: x.miles_per_day.max() > 0)\n",
      "df_nonzero.head()"
     ],
     "language": "python",
     "metadata": {},
     "outputs": [
      {
       "html": [
        "<div style=\"max-height:1000px;max-width:1500px;overflow:auto;\">\n",
        "<table border=\"1\" class=\"dataframe\">\n",
        "  <thead>\n",
        "    <tr style=\"text-align: right;\">\n",
        "      <th></th>\n",
        "      <th>cluster_id</th>\n",
        "      <th>ad_id</th>\n",
        "      <th>timestamp</th>\n",
        "      <th>diffs</th>\n",
        "      <th>lat</th>\n",
        "      <th>lon</th>\n",
        "      <th>miles_per_day</th>\n",
        "    </tr>\n",
        "  </thead>\n",
        "  <tbody>\n",
        "    <tr>\n",
        "      <th>27</th>\n",
        "      <td> cluster:10000367</td>\n",
        "      <td> myproviderguide:709717</td>\n",
        "      <td> 2013-01-15 00:00:00</td>\n",
        "      <td> 0.000000</td>\n",
        "      <td> 39.305402</td>\n",
        "      <td> -76.551185</td>\n",
        "      <td>          NaN</td>\n",
        "    </tr>\n",
        "    <tr>\n",
        "      <th>28</th>\n",
        "      <td> cluster:10000367</td>\n",
        "      <td> myproviderguide:709713</td>\n",
        "      <td> 2013-01-16 00:00:00</td>\n",
        "      <td> 1.000000</td>\n",
        "      <td> 39.305402</td>\n",
        "      <td> -76.551185</td>\n",
        "      <td>     0.000000</td>\n",
        "    </tr>\n",
        "    <tr>\n",
        "      <th>29</th>\n",
        "      <td> cluster:10000367</td>\n",
        "      <td>        backpage:270425</td>\n",
        "      <td> 2013-10-03 06:03:00</td>\n",
        "      <td> 0.000000</td>\n",
        "      <td> 39.895624</td>\n",
        "      <td> -75.311418</td>\n",
        "      <td> 77528.445957</td>\n",
        "    </tr>\n",
        "    <tr>\n",
        "      <th>30</th>\n",
        "      <td> cluster:10000367</td>\n",
        "      <td>        backpage:612195</td>\n",
        "      <td> 2013-10-16 19:37:00</td>\n",
        "      <td> 0.925694</td>\n",
        "      <td> 37.754337</td>\n",
        "      <td>-122.651690</td>\n",
        "      <td>  2720.184151</td>\n",
        "    </tr>\n",
        "    <tr>\n",
        "      <th>31</th>\n",
        "      <td> cluster:10000367</td>\n",
        "      <td>        backpage:659255</td>\n",
        "      <td> 2013-10-17 20:50:00</td>\n",
        "      <td> 1.050694</td>\n",
        "      <td> 37.754337</td>\n",
        "      <td>-122.651690</td>\n",
        "      <td>     0.000000</td>\n",
        "    </tr>\n",
        "  </tbody>\n",
        "</table>\n",
        "</div>"
       ],
       "metadata": {},
       "output_type": "pyout",
       "prompt_number": 56,
       "text": [
        "          cluster_id                   ad_id            timestamp     diffs  \\\n",
        "27  cluster:10000367  myproviderguide:709717  2013-01-15 00:00:00  0.000000   \n",
        "28  cluster:10000367  myproviderguide:709713  2013-01-16 00:00:00  1.000000   \n",
        "29  cluster:10000367         backpage:270425  2013-10-03 06:03:00  0.000000   \n",
        "30  cluster:10000367         backpage:612195  2013-10-16 19:37:00  0.925694   \n",
        "31  cluster:10000367         backpage:659255  2013-10-17 20:50:00  1.050694   \n",
        "\n",
        "          lat         lon  miles_per_day  \n",
        "27  39.305402  -76.551185            NaN  \n",
        "28  39.305402  -76.551185       0.000000  \n",
        "29  39.895624  -75.311418   77528.445957  \n",
        "30  37.754337 -122.651690    2720.184151  \n",
        "31  37.754337 -122.651690       0.000000  "
       ]
      }
     ],
     "prompt_number": 56
    },
    {
     "cell_type": "code",
     "collapsed": false,
     "input": [
      "# How many zeros are there?\n",
      "\n",
      "nonzero_clusters = df_nonzero.groupby('cluster_id')\n",
      "print(1 - nonzero_clusters.ngroups/float(clusters.ngroups))"
     ],
     "language": "python",
     "metadata": {},
     "outputs": []
    },
    {
     "cell_type": "markdown",
     "metadata": {},
     "source": [
      "44.4% of providers remained within the same MSA throughout their postings. About 70% of the ads have a reasonable travel time (the width of the continental US is about 2000 miles)."
     ]
    },
    {
     "cell_type": "code",
     "collapsed": false,
     "input": [
      "nonzero_maxes = nonzero_clusters.miles_per_day.max()\n",
      "nonzero_maxes.describe()"
     ],
     "language": "python",
     "metadata": {},
     "outputs": [
      {
       "metadata": {},
       "output_type": "pyout",
       "prompt_number": 29,
       "text": [
        "count      24749.000000\n",
        "mean      406934.329859\n",
        "std       754667.625753\n",
        "min            0.001521\n",
        "25%          108.390621\n",
        "50%         1202.380662\n",
        "75%       360468.710891\n",
        "max      5388371.870015\n",
        "Name: miles_per_day, dtype: float64"
       ]
      }
     ],
     "prompt_number": 29
    },
    {
     "cell_type": "code",
     "collapsed": false,
     "input": [
      "REASONABLE_TRAVEL_THRESHOLD = 2000 # 2000 miles per day?\n",
      "\n",
      "seaborn.distplot(np.log(nonzero_maxes))\n",
      "plt.plot([np.log(REASONABLE_TRAVEL_THRESHOLD), np.log(REASONABLE_TRAVEL_THRESHOLD)], [0, plt.ylim()[1]], label='2000 miles per day')\n",
      "plt.xlabel('Natural log of implied travel speed (miles/day)')\n",
      "plt.title('Distribution of non-zero implied travel speeds (n=24,749)')\n",
      "plt.legend(loc='upper left')\n",
      "\n",
      "plt.savefig(os.path.join(plot_dir, 'implied_travel_speeds_nonzero.png'))"
     ],
     "language": "python",
     "metadata": {},
     "outputs": [
      {
       "metadata": {},
       "output_type": "display_data",
       "png": "[encoded data removed]",
       "text": [
        "<matplotlib.figure.Figure at 0x7f8175cb06d0>"
       ]
      }
     ],
     "prompt_number": 59
    },
    {
     "cell_type": "code",
     "collapsed": false,
     "input": [
      "REASONABLE_TRAVEL_THRESHOLD = 2000 # 2000 miles per day?\n",
      "\n",
      "seaborn.distplot(np.log(miles_per_day_maxes + .1))\n",
      "plt.plot([np.log(REASONABLE_TRAVEL_THRESHOLD), np.log(REASONABLE_TRAVEL_THRESHOLD)], [0, plt.ylim()[1]], label='2000 miles per day')\n",
      "plt.xlabel('Natural log of implied travel speed (miles/day)')\n",
      "plt.ylabel('Density')\n",
      "plt.title('Distribution of all implied travel speeds (n=44,486)')\n",
      "plt.legend(loc='upper left')\n",
      "\n",
      "plt.savefig(os.path.join(plot_dir, 'implied_travel_speeds_all.png'))"
     ],
     "language": "python",
     "metadata": {},
     "outputs": [
      {
       "metadata": {},
       "output_type": "display_data",
       "png": "[encoded data removed]",
       "text": [
        "<matplotlib.figure.Figure at 0x7f81967a0810>"
       ]
      }
     ],
     "prompt_number": 60
    }
   ],
   "metadata": {}
  }
 ]
}