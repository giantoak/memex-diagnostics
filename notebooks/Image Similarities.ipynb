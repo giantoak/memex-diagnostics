{
 "metadata": {
  "name": ""
 },
 "nbformat": 3,
 "nbformat_minor": 0,
 "worksheets": [
  {
   "cells": [
    {
     "cell_type": "code",
     "collapsed": false,
     "input": [
      "import pandas as pd\n",
      "import numpy as np\n",
      "import matplotlib\n",
      "from matplotlib import pylab\n",
      "import seaborn\n",
      "import os\n",
      "\n",
      "root_dir = '/mnt/memex-diagnostics'\n",
      "data_dir = os.path.join(root_dir, 'data/images')\n",
      "plot_dir = os.path.join(root_dir, 'plots/image-similarity')\n",
      "\n",
      "image_similiarity_scores = pd.read_csv(os.path.join(data_dir, 'avg_sims_lens.csv'))"
     ],
     "language": "python",
     "metadata": {},
     "outputs": [],
     "prompt_number": 1
    },
    {
     "cell_type": "code",
     "collapsed": false,
     "input": [
      "image_similiarity_scores.head()"
     ],
     "language": "python",
     "metadata": {},
     "outputs": [
      {
       "html": [
        "<div style=\"max-height:1000px;max-width:1500px;overflow:auto;\">\n",
        "<table border=\"1\" class=\"dataframe\">\n",
        "  <thead>\n",
        "    <tr style=\"text-align: right;\">\n",
        "      <th></th>\n",
        "      <th>avg_sims</th>\n",
        "      <th>lens</th>\n",
        "    </tr>\n",
        "  </thead>\n",
        "  <tbody>\n",
        "    <tr>\n",
        "      <th>0</th>\n",
        "      <td>0.470815</td>\n",
        "      <td>56</td>\n",
        "    </tr>\n",
        "    <tr>\n",
        "      <th>1</th>\n",
        "      <td>0.470815</td>\n",
        "      <td>32</td>\n",
        "    </tr>\n",
        "    <tr>\n",
        "      <th>2</th>\n",
        "      <td>0.233508</td>\n",
        "      <td>39</td>\n",
        "    </tr>\n",
        "    <tr>\n",
        "      <th>3</th>\n",
        "      <td>0.354402</td>\n",
        "      <td>37</td>\n",
        "    </tr>\n",
        "    <tr>\n",
        "      <th>4</th>\n",
        "      <td>0.441191</td>\n",
        "      <td>33</td>\n",
        "    </tr>\n",
        "  </tbody>\n",
        "</table>\n",
        "</div>"
       ],
       "metadata": {},
       "output_type": "pyout",
       "prompt_number": 2,
       "text": [
        "   avg_sims  lens\n",
        "0  0.470815    56\n",
        "1  0.470815    32\n",
        "2  0.233508    39\n",
        "3  0.354402    37\n",
        "4  0.441191    33"
       ]
      }
     ],
     "prompt_number": 2
    },
    {
     "cell_type": "code",
     "collapsed": false,
     "input": [
      "image_similiarity_scores.shape[0]"
     ],
     "language": "python",
     "metadata": {},
     "outputs": [
      {
       "metadata": {},
       "output_type": "pyout",
       "prompt_number": 5,
       "text": [
        "10174642"
       ]
      }
     ],
     "prompt_number": 5
    },
    {
     "cell_type": "code",
     "collapsed": false,
     "input": [
      "image_similiarity_scores.avg_sims.describe(percentiles=np.arange(0, 1, .1))"
     ],
     "language": "python",
     "metadata": {},
     "outputs": [
      {
       "metadata": {},
       "output_type": "pyout",
       "prompt_number": 12,
       "text": [
        "count    10174642.000000\n",
        "mean            0.349178\n",
        "std             0.129350\n",
        "min             0.000000\n",
        "0%              0.000000\n",
        "10%             0.165917\n",
        "20%             0.267161\n",
        "30.0%           0.312709\n",
        "40%             0.344544\n",
        "50%             0.371175\n",
        "60.0%           0.396287\n",
        "70%             0.422088\n",
        "80%             0.451153\n",
        "90%             0.489739\n",
        "max             0.753001\n",
        "Name: avg_sims, dtype: float64"
       ]
      }
     ],
     "prompt_number": 12
    },
    {
     "cell_type": "code",
     "collapsed": false,
     "input": [
      "image_similiarity_scores.lens.describe(percentiles=[0, .25, .5, .75, .8, .9, .99, .995, .999])"
     ],
     "language": "python",
     "metadata": {},
     "outputs": [
      {
       "metadata": {},
       "output_type": "pyout",
       "prompt_number": 8,
       "text": [
        "count    10174642.000000\n",
        "mean           57.762907\n",
        "std            48.500460\n",
        "min            29.000000\n",
        "0%             29.000000\n",
        "25%            38.000000\n",
        "50%            47.000000\n",
        "75%            62.000000\n",
        "80%            67.000000\n",
        "90%            86.000000\n",
        "99%           223.000000\n",
        "99.5%         308.000000\n",
        "99.9%         624.359000\n",
        "max          5550.000000\n",
        "Name: lens, dtype: float64"
       ]
      }
     ],
     "prompt_number": 8
    },
    {
     "cell_type": "markdown",
     "metadata": {},
     "source": [
      "Wide jump between 99% and max similarity scores. We're looking for clusters of images that are largely identical, and seeing how many of the total ads they consist of."
     ]
    },
    {
     "cell_type": "code",
     "collapsed": false,
     "input": [
      "image_similiarity_scores.sort('lens', inplace=True)"
     ],
     "language": "python",
     "metadata": {},
     "outputs": [],
     "prompt_number": 10
    },
    {
     "cell_type": "code",
     "collapsed": false,
     "input": [
      "image_similiarity_scores.tail(n=100), 'hi'"
     ],
     "language": "python",
     "metadata": {},
     "outputs": [
      {
       "metadata": {},
       "output_type": "pyout",
       "prompt_number": 11,
       "text": [
        "(         avg_sims  lens\n",
        "3255250  0.296310  2426\n",
        "2897285  0.296310  2426\n",
        "6199197  0.283744  2426\n",
        "88742    0.285255  2426\n",
        "3281697  0.289682  2426\n",
        "357300   0.283642  2426\n",
        "6339851  0.283805  2426\n",
        "1679522  0.370905  2430\n",
        "4000291  0.254496  2432\n",
        "1705159  0.362544  2437\n",
        "6467568  0.329297  2445\n",
        "4344191  0.304845  2466\n",
        "6627167  0.352855  2474\n",
        "357285   0.436043  2495\n",
        "2866968  0.446483  2571\n",
        "8635208  0.331537  2609\n",
        "2832716  0.217974  2653\n",
        "5081531  0.367979  2705\n",
        "7505856  0.230161  2710\n",
        "7289934  0.291341  2881\n",
        "1574020  0.267630  2882\n",
        "711293   0.231291  2912\n",
        "6278076  0.245251  2994\n",
        "7989552  0.334787  3154\n",
        "2016375  0.334787  3154\n",
        "1856288  0.244283  3157\n",
        "8908215  0.245839  3160\n",
        "6942115  0.246467  3160\n",
        "2016110  0.313069  3161\n",
        "7284814  0.313069  3161\n",
        "...           ...   ...\n",
        "5295100  0.262473  3965\n",
        "4232305  0.262473  3965\n",
        "4596573  0.262294  3965\n",
        "1417384  0.272765  4176\n",
        "5755991  0.279774  4176\n",
        "6415762  0.272665  4176\n",
        "2081223  0.283595  4176\n",
        "8726100  0.270034  4176\n",
        "8882890  0.284419  4223\n",
        "8183110  0.368826  4472\n",
        "521472   0.335407  4680\n",
        "4241948  0.309533  4682\n",
        "270591   0.309488  4682\n",
        "2820003  0.315578  4687\n",
        "5287294  0.318785  4688\n",
        "5621504  0.315722  4689\n",
        "4398593  0.208656  4990\n",
        "1416186  0.212066  5039\n",
        "379867   0.234870  5486\n",
        "4053722  0.233011  5486\n",
        "605965   0.233023  5486\n",
        "5500456  0.234882  5486\n",
        "4986274  0.267677  5543\n",
        "7959247  0.259747  5550\n",
        "6174989  0.259747  5550\n",
        "9040988  0.257176  5550\n",
        "2467155  0.258622  5550\n",
        "5068607  0.258753  5550\n",
        "4154690  0.258676  5550\n",
        "3213859  0.258697  5550\n",
        "\n",
        "[100 rows x 2 columns],\n",
        " 'hi')"
       ]
      }
     ],
     "prompt_number": 11
    },
    {
     "cell_type": "code",
     "collapsed": false,
     "input": [
      "import seaborn as sns\n",
      "sns.jointplot(image_similiarity_scores.avg_sims, image_similiarity_scores.lens)"
     ],
     "language": "python",
     "metadata": {},
     "outputs": [
      {
       "metadata": {},
       "output_type": "pyout",
       "prompt_number": 14,
       "text": [
        "<seaborn.axisgrid.JointGrid at 0x7f20c943d1d0>"
       ]
      },
      {
       "metadata": {},
       "output_type": "display_data",
       "png": "[encoded data removed]",
       "text": [
        "<matplotlib.figure.Figure at 0x7f20c943d850>"
       ]
      }
     ],
     "prompt_number": 14
    }
   ],
   "metadata": {}
  }
 ]
}